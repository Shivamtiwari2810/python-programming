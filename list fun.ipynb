{
 "cells": [
  {
   "cell_type": "code",
   "execution_count": 1,
   "id": "82120fc6-3413-4883-a515-62d72fa1f195",
   "metadata": {},
   "outputs": [
    {
     "name": "stdout",
     "output_type": "stream",
     "text": [
      "[1, 2, 3, 4]\n",
      "[1, 4, 2, 3]\n"
     ]
    }
   ],
   "source": [
    "Answer No 1\n",
    "\n",
    "\n",
    "my_list = [1, 2, 3]\n",
    "my_list.append(4)\n",
    "print(my_list) # Output: [1, 2, 3, 4]\n",
    "#In this example, we first create a list called my_list with three elements. Then we call the append() method on my_list #and pass the value 4 as an argument. This adds 4 to the end of the list. Finally, we print the list to confirm that 4 #has been added.\n",
    "\n",
    "#You can also use the insert() method to add an element at a specific index in the list. Here's an example:\n",
    "my_list = [1, 2, 3]\n",
    "my_list.insert(1, 4)\n",
    "print(my_list) # Output: [1, 4, 2, 3]\n",
    "#In this example, we call the insert() method on my_list and pass two arguments: the index where we want to insert the new element (in this case, 1) and the value of the new element (4). This adds 4 at index 1, shifting the other elements to the right. Finally, we print the list to confirm that 4 has been added at the correct position."
   ]
  },
  {
   "cell_type": "code",
   "execution_count": 3,
   "id": "1459fb5d-207d-4209-af7d-3d4c4db8be0b",
   "metadata": {},
   "outputs": [
    {
     "name": "stdout",
     "output_type": "stream",
     "text": [
      "[1, 3, 2]\n",
      "[1, 3]\n",
      "2\n"
     ]
    }
   ],
   "source": [
    "#Answer No 2\n",
    "\n",
    "\n",
    "#Both the remove() and pop() methods are used to remove an element from a list in Python, but they work in slightly different ways.\n",
    "#The remove() method removes the first occurrence of a specified element from the list. Here's an example:\n",
    "\n",
    "my_list = [1, 2, 3, 2]\n",
    "my_list.remove(2)\n",
    "print(my_list) # Output: [1, 3, 2]\n",
    "#In this example, we have a list called my_list with four elements, including two occurrences of the value 2. We call the remove() method on my_list and pass the value 2 as an argument. This removes the first occurrence of 2 from the list. Finally, we print the list to confirm that the element has been removed.\n",
    "#The pop() method, on the other hand, removes and returns the element at a specified index in the list. Here's an example:\n",
    "my_list = [1, 2, 3]\n",
    "popped_element = my_list.pop(1)\n",
    "print(my_list) # Output: [1, 3]\n",
    "print(popped_element) # Output: 2\n",
    "#In this example, we have a list called my_list with three elements. We call the pop() method on my_list and pass the index 1 as an argument. This removes the element at index 1 (which is 2) from the list and returns it. We assign the returned value to the variable popped_element. Finally, we print the modified list and the popped element to confirm that the element has been removed and returned.\n",
    "#In summary, the remove() method removes the first occurrence of a specified element from the list, while the pop() method removes and returns the element at a specified index in the list.\n",
    "\n",
    "\n",
    "\n",
    "\n"
   ]
  },
  {
   "cell_type": "code",
   "execution_count": 4,
   "id": "062bcc16-8141-433f-beef-a86c15027d7c",
   "metadata": {},
   "outputs": [
    {
     "name": "stdout",
     "output_type": "stream",
     "text": [
      "[4, 3, 2, 1]\n"
     ]
    }
   ],
   "source": [
    "#Answer No 3 \n",
    "\n",
    "\n",
    "my_list = [3, 1, 4, 2]\n",
    "my_list.sort(reverse=True)\n",
    "print(my_list) # Output: [4, 3, 2, 1]\n"
   ]
  },
  {
   "cell_type": "code",
   "execution_count": 5,
   "id": "c0a503c9-feac-4760-bc25-d33b9287d038",
   "metadata": {},
   "outputs": [
    {
     "name": "stdout",
     "output_type": "stream",
     "text": [
      "3\n"
     ]
    }
   ],
   "source": [
    "#Answer No 4\n",
    "\n",
    "\n",
    "my_list = [1, 2, 3, 2, 4, 2]\n",
    "count = my_list.count(2)\n",
    "print(count) # Output: 3\n"
   ]
  },
  {
   "cell_type": "code",
   "execution_count": 7,
   "id": "a854b6ce-bf20-42ad-9fec-cccacee0c54d",
   "metadata": {},
   "outputs": [
    {
     "name": "stdout",
     "output_type": "stream",
     "text": [
      "[4, 3, 2, 1]\n",
      "[4, 3, 2, 1]\n"
     ]
    }
   ],
   "source": [
    "#Answer No 5\n",
    "\n",
    "\n",
    "my_list = [1, 2, 3, 4]\n",
    "my_list.reverse()\n",
    "print(my_list) # Output: [4, 3, 2, 1]\n",
    "\n",
    "\n",
    "my_list2 = [1, 2, 3, 4]\n",
    "reversed_list = my_list2[::-1]\n",
    "print(reversed_list) # Output: [4, 3, 2, 1]\n",
    "\n"
   ]
  },
  {
   "cell_type": "code",
   "execution_count": null,
   "id": "aa6ca061-6f4a-4908-b5a8-50816f7e7fcd",
   "metadata": {},
   "outputs": [],
   "source": []
  }
 ],
 "metadata": {
  "kernelspec": {
   "display_name": "Python 3 (ipykernel)",
   "language": "python",
   "name": "python3"
  },
  "language_info": {
   "codemirror_mode": {
    "name": "ipython",
    "version": 3
   },
   "file_extension": ".py",
   "mimetype": "text/x-python",
   "name": "python",
   "nbconvert_exporter": "python",
   "pygments_lexer": "ipython3",
   "version": "3.10.8"
  }
 },
 "nbformat": 4,
 "nbformat_minor": 5
}
