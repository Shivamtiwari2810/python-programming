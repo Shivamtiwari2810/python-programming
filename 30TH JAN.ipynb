{
 "cells": [
  {
   "cell_type": "code",
   "execution_count": 4,
   "id": "813c4a29-0a10-4b3e-93c0-44c409959fc5",
   "metadata": {},
   "outputs": [
    {
     "name": "stdin",
     "output_type": "stream",
     "text": [
      "entrer your percentage =  90\n"
     ]
    },
    {
     "name": "stdout",
     "output_type": "stream",
     "text": [
      "Grade B\n"
     ]
    }
   ],
   "source": [
    "# answrer number 1\n",
    "\n",
    "percentage = int(input(\"entrer your percentage = \"))\n",
    "\n",
    "if percentage > 90 :\n",
    "    print(\"Grade A\")\n",
    "elif percentage > 80 and percentage <= 90 :\n",
    "    print(\"Grade B\")\n",
    "elif percentage >= 60 and percentage <= 80 :\n",
    "    print(\"Grade C\")\n",
    "else:\n",
    "    \n",
    "    print(\"Grade D\")"
   ]
  },
  {
   "cell_type": "code",
   "execution_count": 6,
   "id": "74112ad8-5aa1-4aae-b95c-2cc3c508856a",
   "metadata": {},
   "outputs": [
    {
     "name": "stdin",
     "output_type": "stream",
     "text": [
      "Enter cost of bike =  50000\n"
     ]
    },
    {
     "name": "stdout",
     "output_type": "stream",
     "text": [
      "Tax you have to pay \n",
      "2500.0\n"
     ]
    }
   ],
   "source": [
    "        # Answer Number 2\n",
    "\n",
    "bike_cost = int(input(\"Enter cost of bike = \"))\n",
    "if bike_cost > 100000:\n",
    "    print(\"Tax you have to pay \")\n",
    "    print((15/100)*bike_cost)\n",
    "elif bike_cost > 50000 and bike_cost <= 100000:\n",
    "    print(\"Tax you have to pay \")\n",
    "    print((10/100)*bike_cost)\n",
    "else:\n",
    "    print(\"Tax you have to pay \")\n",
    "    print((5/100)*bike_cost)"
   ]
  },
  {
   "cell_type": "code",
   "execution_count": 20,
   "id": "a797dbf4-94d4-4b3c-a85b-7dee516ead21",
   "metadata": {},
   "outputs": [
    {
     "name": "stdin",
     "output_type": "stream",
     "text": [
      "Enter your city =  Delhi\n"
     ]
    },
    {
     "name": "stdout",
     "output_type": "stream",
     "text": [
      "Red Fort\n"
     ]
    }
   ],
   "source": [
    "        # Answer number 3\n",
    "city = input(\"Enter your city = \")\n",
    "if city == 'Delhi':\n",
    "    print(\"Red Fort\")\n",
    " \n",
    "if city == 'Agra':\n",
    "    print(\"Taj Mahal\")\n",
    " \n",
    "if city == 'Jaipur':\n",
    "    print(\"Jai Mahal\")\n",
    "    "
   ]
  },
  {
   "cell_type": "code",
   "execution_count": 23,
   "id": "6947266b-e8ff-4e3e-919c-5c1293302918",
   "metadata": {},
   "outputs": [
    {
     "name": "stdin",
     "output_type": "stream",
     "text": [
      "Enter number = 9\n"
     ]
    },
    {
     "name": "stdout",
     "output_type": "stream",
     "text": [
      "3 Times\n"
     ]
    }
   ],
   "source": [
    "            #Answer number 4\n",
    "\n",
    "num = int(input(\"Enter number =\"))\n",
    "\n",
    "if num <= 10:\n",
    "    count = 0\n",
    "    while num != 0:\n",
    "        if num % 3 == 0:\n",
    "            count = count+1\n",
    "        num = num-1\n",
    "print(f\"{count} Times\") "
   ]
  },
  {
   "cell_type": "markdown",
   "id": "2fb83225-ee76-4e96-b839-06b1b1d6c3e6",
   "metadata": {},
   "source": [
    "            #Answer number 5\n",
    "            \n",
    " 1)A while loop evaluates the condition\n",
    "2)If the condition evaluates to True, the code inside the 3)while loop is executed.\n",
    "4)condition is evaluated again.\n",
    "5)This process continues until the condition is False.\n",
    "6)When condition evaluates to False, the loop stops.           "
   ]
  },
  {
   "cell_type": "code",
   "execution_count": 1,
   "id": "c76546a0-fad7-4d6e-b375-4539ffac09c8",
   "metadata": {},
   "outputs": [
    {
     "name": "stdout",
     "output_type": "stream",
     "text": [
      "\n",
      "# \n",
      "# # \n",
      "# # # \n",
      "# # # # \n",
      "# # # # # \n"
     ]
    }
   ],
   "source": [
    "#PATTERN 1\n",
    "p1=5\n",
    "i = 0\n",
    "while i<=p1:\n",
    "    j=1\n",
    "    pattern ='#'\n",
    "    while j<=i:\n",
    "        print(pattern,end=\" \")\n",
    "        j=j+1\n",
    "    print(\"\")\n",
    "    i=i+1 "
   ]
  },
  {
   "cell_type": "code",
   "execution_count": 1,
   "id": "f445b1d4-8330-48c1-87b8-c3f50157ddcd",
   "metadata": {},
   "outputs": [
    {
     "name": "stdout",
     "output_type": "stream",
     "text": [
      "* * * * * \n",
      "* * * * \n",
      "* * * \n",
      "* * \n",
      "* \n"
     ]
    }
   ],
   "source": [
    "i = 5\n",
    "while i>=1:\n",
    "    j=i\n",
    "    pattern ='*'\n",
    "    while j>=1:\n",
    "        print(pattern,end=\" \")\n",
    "        j=j-1\n",
    "    print(\"\")\n",
    "    i=i-1\n",
    "    \n"
   ]
  },
  {
   "cell_type": "code",
   "execution_count": 2,
   "id": "fc4cb275-cc55-4959-a403-7eff0f80ffb7",
   "metadata": {},
   "outputs": [
    {
     "name": "stdout",
     "output_type": "stream",
     "text": [
      "\n",
      "* \n",
      "* * \n",
      "* * * \n",
      "* * * * \n",
      "* * * * * \n",
      "* * * * * * \n",
      "* * * * * \n",
      "* * * * \n",
      "* * * \n",
      "* * \n",
      "* \n"
     ]
    }
   ],
   "source": [
    "#pattern 3\n",
    "p1=5\n",
    "i = 0\n",
    "while i<=p1:\n",
    "    j=1\n",
    "    pattern ='*'\n",
    "    while j<=i:\n",
    "        print(pattern,end=\" \")\n",
    "        j=j+1\n",
    "    print(\"\")\n",
    "    i=i+1\n",
    "while i>=1:\n",
    "    j=i\n",
    "    pattern ='*'\n",
    "    while j>=1:\n",
    "        print(pattern,end=\" \")\n",
    "        j=j-1\n",
    "    print(\"\")\n",
    "    i=i-1\n"
   ]
  },
  {
   "cell_type": "code",
   "execution_count": 5,
   "id": "64358577-1e68-4ac4-b343-7142b8213563",
   "metadata": {},
   "outputs": [
    {
     "name": "stdout",
     "output_type": "stream",
     "text": [
      "10\n",
      "9\n",
      "8\n",
      "7\n",
      "6\n",
      "5\n",
      "4\n",
      "3\n",
      "2\n",
      "1\n"
     ]
    }
   ],
   "source": [
    "#ANSWER NUMBER 7\n",
    "i = 10\n",
    "while i <= 10 and i !=0:\n",
    "    print(i)\n",
    "    i=i-1\n"
   ]
  },
  {
   "cell_type": "code",
   "execution_count": 6,
   "id": "8cf3d192-c59b-4877-914e-298b86478f56",
   "metadata": {},
   "outputs": [
    {
     "name": "stdout",
     "output_type": "stream",
     "text": [
      "1\n",
      "2\n",
      "3\n",
      "4\n",
      "5\n",
      "6\n",
      "7\n",
      "8\n",
      "9\n",
      "10\n"
     ]
    }
   ],
   "source": [
    "#ANSWER NUMBER 8 \n",
    "i = 1\n",
    "while i <= 10:\n",
    "    print(i)\n",
    "    i=i+1\n"
   ]
  },
  {
   "cell_type": "code",
   "execution_count": null,
   "id": "93d3a6ea-7970-44ea-be41-babe59df6e17",
   "metadata": {},
   "outputs": [],
   "source": []
  }
 ],
 "metadata": {
  "kernelspec": {
   "display_name": "Python 3 (ipykernel)",
   "language": "python",
   "name": "python3"
  },
  "language_info": {
   "codemirror_mode": {
    "name": "ipython",
    "version": 3
   },
   "file_extension": ".py",
   "mimetype": "text/x-python",
   "name": "python",
   "nbconvert_exporter": "python",
   "pygments_lexer": "ipython3",
   "version": "3.10.8"
  }
 },
 "nbformat": 4,
 "nbformat_minor": 5
}
