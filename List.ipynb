{
 "cells": [
  {
   "cell_type": "code",
   "execution_count": 3,
   "id": "acbc1ad4-f13a-442b-a9f8-a46162ad2249",
   "metadata": {},
   "outputs": [
    {
     "name": "stdout",
     "output_type": "stream",
     "text": [
      "[]\n"
     ]
    }
   ],
   "source": [
    "#Answer (1) \n",
    "\n",
    "# creating the empty list\n",
    "my_list = []\n",
    "print(my_list)"
   ]
  },
  {
   "cell_type": "code",
   "execution_count": 5,
   "id": "f4178a47-58ad-4c12-ba52-f4aaceef6ec4",
   "metadata": {},
   "outputs": [
    {
     "name": "stdout",
     "output_type": "stream",
     "text": [
      "[1, 2, 3, 4]\n"
     ]
    }
   ],
   "source": [
    "#Answer (2)\n",
    "\n",
    "list1 = [1, 2, 3]    # Creating a list with three elements\n",
    "list1.append(4)      # Adding a new element to the end of the list\n",
    "print(list1)         # Output: [1, 2, 3, 4]\n"
   ]
  },
  {
   "cell_type": "code",
   "execution_count": 7,
   "id": "dd5319e6-b0a4-488c-b98b-5bd74e19a45e",
   "metadata": {},
   "outputs": [
    {
     "name": "stdout",
     "output_type": "stream",
     "text": [
      "4\n"
     ]
    }
   ],
   "source": [
    "#Answer (3)\n",
    "\n",
    "\n",
    "#Printing the last element\n",
    "\n",
    "shivam = [1, 2, 3, 4]   # Creating a list with four elements\n",
    "print(shivam[-1])       # Printing the last element of the list\n"
   ]
  },
  {
   "cell_type": "code",
   "execution_count": 8,
   "id": "2e41597f-5ce5-4183-8ad6-e5e108d70b84",
   "metadata": {},
   "outputs": [
    {
     "name": "stdout",
     "output_type": "stream",
     "text": [
      "[1, 2, 3, 4]\n",
      "[1, 2, 3, 4]\n"
     ]
    }
   ],
   "source": [
    "# Answer(4 , 5)\n",
    "\n",
    "# Reverse and sort the list\n",
    "\n",
    "my_list = [4, 3, 2, 1]   # Creating a list with four elements\n",
    "\n",
    "# Reversing the list\n",
    "my_list.reverse()\n",
    "print(my_list)   # Output: [1, 2, 3, 4]\n",
    "\n",
    "# Sorting the list\n",
    "my_list.sort()\n",
    "print(my_list)   # Output: [1, 2, 3, 4]\n",
    "\n"
   ]
  },
  {
   "cell_type": "code",
   "execution_count": 9,
   "id": "4afeac19-aa2a-4d47-92b3-1e9f597080b5",
   "metadata": {},
   "outputs": [
    {
     "name": "stdout",
     "output_type": "stream",
     "text": [
      "BHAUBALI\n"
     ]
    }
   ],
   "source": [
    "#Answer (6)\n",
    "\n",
    "my_movies = ['KGF', 'BHAUBALI', 'HARRY PORTER']\n",
    "print(my_movies[1])\n"
   ]
  },
  {
   "cell_type": "code",
   "execution_count": 11,
   "id": "b3a3ccae-1cf7-4c82-9ea0-590286944805",
   "metadata": {},
   "outputs": [
    {
     "name": "stdout",
     "output_type": "stream",
     "text": [
      "HARRY PORTER\n"
     ]
    }
   ],
   "source": [
    "my_movies = ['KGF', 'BHAUBALI', 'HARRY PORTER']\n",
    "print(my_movies[2])\n"
   ]
  },
  {
   "cell_type": "code",
   "execution_count": 12,
   "id": "4e7f9fb5-e293-4575-a116-9bc27f818e90",
   "metadata": {},
   "outputs": [
    {
     "name": "stdout",
     "output_type": "stream",
     "text": [
      "KGF\n"
     ]
    }
   ],
   "source": [
    "my_movies = ['KGF', 'BHAUBALI', 'HARRY PORTER']\n",
    "print(my_movies[0])\n"
   ]
  },
  {
   "cell_type": "code",
   "execution_count": 15,
   "id": "e8b7c37a-fc4e-4d35-8edd-fb41aa6809bd",
   "metadata": {},
   "outputs": [
    {
     "name": "stdout",
     "output_type": "stream",
     "text": [
      "['Lion', 'Elephant', 'Panda', 'Giraffe', 'tiger']\n"
     ]
    }
   ],
   "source": [
    "#Answer (7)\n",
    "\n",
    "my_animals = ['Lion', 'Elephant', 'Panda']\n",
    "my_animals.append('Giraffe')\n",
    "my_animals.append('tiger')\n",
    "print(my_animals)\n"
   ]
  },
  {
   "cell_type": "code",
   "execution_count": 16,
   "id": "12eadf49-fac0-4374-929a-a8090a00cfec",
   "metadata": {},
   "outputs": [
    {
     "name": "stdout",
     "output_type": "stream",
     "text": [
      "2\n"
     ]
    }
   ],
   "source": [
    "#Answer (8)\n",
    "\n",
    "My_cities = ['Lucknow', 'Prayagraj', 'Mumbai', 'Banglore']\n",
    "city_position = My_cities.index('Mumbai')\n",
    "print(city_position)\n"
   ]
  },
  {
   "cell_type": "code",
   "execution_count": null,
   "id": "70385351-1dd8-48e6-b42f-4350c73e0711",
   "metadata": {},
   "outputs": [],
   "source": []
  }
 ],
 "metadata": {
  "kernelspec": {
   "display_name": "Python 3 (ipykernel)",
   "language": "python",
   "name": "python3"
  },
  "language_info": {
   "codemirror_mode": {
    "name": "ipython",
    "version": 3
   },
   "file_extension": ".py",
   "mimetype": "text/x-python",
   "name": "python",
   "nbconvert_exporter": "python",
   "pygments_lexer": "ipython3",
   "version": "3.10.8"
  }
 },
 "nbformat": 4,
 "nbformat_minor": 5
}
