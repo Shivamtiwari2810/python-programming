{
 "cells": [
  {
   "cell_type": "markdown",
   "id": "a54df2d0-4384-4243-b1af-447099ac332e",
   "metadata": {},
   "source": [
    "(1) :  \n",
    " \n",
    " * \n",
    " Multithreading in Python is a technique where multiple threads of execution are created within a single program. Each thread runs concurrently and independently, allowing the program to perform multiple tasks simultaneously. Multithreading is used to improve the efficiency of programs that perform time-consuming tasks, such as I/O operations, by allowing the program to switch between different threads instead of waiting for each operation to complete before starting the next one.\n",
    "\n",
    "The threading module is used to handle threads in Python. This module provides a way to create, manage, and synchronize threads in a program. The threading module allows the creation of threads by instantiating the Thread class, which takes a target function as an argument. The target function is the code that is run in the new thread.\n",
    "\n",
    "\n",
    "Example : "
   ]
  },
  {
   "cell_type": "code",
   "execution_count": 1,
   "id": "a42d98d5-ae9c-4e1e-b9c3-a4f068c44a7e",
   "metadata": {},
   "outputs": [
    {
     "name": "stdout",
     "output_type": "stream",
     "text": [
      "Worker started\n",
      "Worker finished\n",
      "Main thread finished\n"
     ]
    }
   ],
   "source": [
    "import threading\n",
    "\n",
    "def worker():\n",
    "    \"\"\"Thread worker function\"\"\"\n",
    "    print('Worker started')\n",
    "    # do some work\n",
    "    print('Worker finished')\n",
    "\n",
    "# create a new thread\n",
    "thread = threading.Thread(target=worker)\n",
    "\n",
    "# start the thread\n",
    "thread.start()\n",
    "\n",
    "# do some other work in the main thread\n",
    "print('Main thread finished')"
   ]
  },
  {
   "cell_type": "markdown",
   "id": "2b4d4a2c-f236-4431-b6c2-0277dfe80475",
   "metadata": {},
   "source": [
    "(2)  : \n",
    "    \n",
    "    * The threading module in Python is used for creating and managing threads in a program. It allows the program to run multiple threads concurrently and independently, which can improve the efficiency of programs that perform time-consuming tasks such as I/O operations. Here are some of the functions provided by the threading module:\n",
    "\n",
    " * activeCount: This function returns the number of Thread objects that are currently active in the program. An active Thread object is a thread that has been started and has not yet finished or been terminated.\n",
    "\n",
    "* currentThread: This function returns a reference to the current * Thread object that is executing the code. This can be useful for identifying the thread that is currently running and for passing information between threads.\n",
    "\n",
    "* enumerate: This function returns a list of all the Thread objects that are currently active in the program. Each Thread object is represented by a unique identifier, which can be used to interact with the thread.\n",
    "\n"
   ]
  },
  {
   "cell_type": "code",
   "execution_count": 2,
   "id": "d1c12fc6-2168-497e-b5dc-dd4b84a64863",
   "metadata": {},
   "outputs": [
    {
     "name": "stdout",
     "output_type": "stream",
     "text": [
      "shivam started\n",
      "Active threads: 9\n",
      "Current thread: Thread-6 (worker)\n",
      "Thread list: [<_MainThread(MainThread, started 139815406479168)>, <Thread(IOPub, started daemon 139815335949888)>, <Heartbeat(Heartbeat, started daemon 139815327557184)>, <Thread(Thread-3 (_watch_pipe_fd), started daemon 139815302379072)>, <Thread(Thread-4 (_watch_pipe_fd), started daemon 139815293986368)>, <ControlThread(Control, started daemon 139814942799424)>, <HistorySavingThread(IPythonHistorySavingThread, started 139814934406720)>, <ParentPollerUnix(Thread-2, started daemon 139814926014016)>, <Thread(Thread-6 (worker), started 139814917621312)>]\n",
      "work finished\n",
      "Main thread finished\n"
     ]
    },
    {
     "name": "stderr",
     "output_type": "stream",
     "text": [
      "/tmp/ipykernel_779/1602422390.py:7: DeprecationWarning: activeCount() is deprecated, use active_count() instead\n",
      "  print('Active threads:', threading.activeCount())\n",
      "/tmp/ipykernel_779/1602422390.py:8: DeprecationWarning: currentThread() is deprecated, use current_thread() instead\n",
      "  print('Current thread:', threading.currentThread().name)\n"
     ]
    }
   ],
   "source": [
    "#Example :-\n",
    "import threading\n",
    "\n",
    "def worker():\n",
    "    \"\"\"Thread shivam function\"\"\"\n",
    "    print('shivam started')\n",
    "    print('Active threads:', threading.activeCount())\n",
    "    print('Current thread:', threading.currentThread().name)\n",
    "    print('Thread list:', threading.enumerate())\n",
    "    # do some work\n",
    "    print('work finished')\n",
    "\n",
    "# create a new thread\n",
    "thread = threading.Thread(target=worker)\n",
    "\n",
    "# start the thread\n",
    "thread.start()\n",
    "\n",
    "# do some other work in the main thread\n",
    "print('Main thread finished')"
   ]
  },
  {
   "cell_type": "markdown",
   "id": "5fe4812e-3933-4be7-88b3-b308c4ef365b",
   "metadata": {},
   "source": [
    "(3) :  \n",
    "    \n",
    "   In Python's threading module, the Thread class provides several methods that allow you to create and manage threads in a program. Here are explanations of some commonly used methods:\n",
    "\n",
    " * run: This method defines the code to be run in a thread. You should subclass the Thread class and override the run method to implement the code you want to run in the new thread.\n",
    "\n",
    " * start: This method starts the thread by calling the run method. The start method does not block, so the program can continue to execute code in the main thread while the new thread runs in the background.\n",
    "\n",
    " * join: This method waits for the thread to complete its execution before continuing with the main thread. The join method blocks the main thread until the thread being joined completes its execution.\n",
    "\n",
    " * isAlive: This method returns a boolean value indicating whether the thread is currently running. A thread is considered to be running if it has been started and has not yet completed its execution. "
   ]
  },
  {
   "cell_type": "code",
   "execution_count": 4,
   "id": "66d323a9-4336-4e11-a743-8cab58f7d065",
   "metadata": {},
   "outputs": [
    {
     "name": "stdout",
     "output_type": "stream",
     "text": [
      "Thread started\n",
      "Thread finished\n"
     ]
    }
   ],
   "source": [
    "# Example \n",
    "import threading\n",
    "\n",
    "class MyThread(threading.Thread):\n",
    "    def run(self):\n",
    "        \"\"\"Code to be run in the thread\"\"\"\n",
    "        print('Thread started')\n",
    "        # do some work\n",
    "        print('Thread finished')\n",
    "\n",
    "# create a new thread\n",
    "thread = MyThread()\n",
    "\n",
    "# start the thread\n",
    "thread.start()\n",
    "\n",
    "# wait for the thread to complete\n",
    "thread.join()\n"
   ]
  },
  {
   "cell_type": "code",
   "execution_count": 5,
   "id": "2ea499b1-146d-4119-8319-ad23ff5b4ede",
   "metadata": {},
   "outputs": [
    {
     "name": "stdout",
     "output_type": "stream",
     "text": [
      "1\n",
      "4\n",
      "9\n",
      "16\n",
      "25\n",
      "1\n",
      "8\n",
      "27\n",
      "64\n",
      "125\n",
      "Done\n"
     ]
    }
   ],
   "source": [
    "#(4) :  \n",
    "    \n",
    "import threading\n",
    "\n",
    "def print_squares(n):\n",
    "    \"\"\"Print a list of squares of numbers from 1 to n\"\"\"\n",
    "    for i in range(1, n+1):\n",
    "        print(i**2)\n",
    "\n",
    "def print_cubes(n):\n",
    "    \"\"\"Print a list of cubes of numbers from 1 to n\"\"\"\n",
    "    for i in range(1, n+1):\n",
    "        print(i**3)\n",
    "\n",
    "# create the first thread\n",
    "thread1 = threading.Thread(target=print_squares, args=(5,))\n",
    "\n",
    "# create the second thread\n",
    "thread2 = threading.Thread(target=print_cubes, args=(5,))\n",
    "\n",
    "# start the threads\n",
    "thread1.start()\n",
    "thread2.start()\n",
    "\n",
    "# wait for the threads to finish\n",
    "thread1.join()\n",
    "thread2.join()\n",
    "\n",
    "print(\"Done\")\n",
    "    "
   ]
  },
  {
   "cell_type": "markdown",
   "id": "25092a5c-90ef-4946-ae27-ed38518abdfd",
   "metadata": {},
   "source": [
    "(5.) :\n",
    "    \n",
    "   * Multithreading can have several advantages and disadvantages, which are as follows:\n",
    "\n",
    "Advantages:\n",
    "\n",
    "Increased performance: Multithreading allows a program to execute multiple tasks simultaneously, which can improve the overall performance of the program.\n",
    "\n",
    "Improved responsiveness: Multithreading allows a program to respond to user input while performing long-running tasks in the background.\n",
    "\n",
    "Efficient use of resources: Multithreading allows a program to efficiently use available resources, such as CPU and memory, by sharing them among multiple threads.\n",
    "\n",
    "Disadvantages:\n",
    "\n",
    "Complexity: Multithreaded programs can be more complex to write and debug than single-threaded programs.\n",
    "\n",
    "Synchronization issues: Multithreading can introduce synchronization issues, such as deadlocks and race conditions, which can be difficult to detect and fix.\n",
    "\n",
    "Overhead: Multithreading introduces some overhead due to the creation and management of threads, which can decrease performance if not used properly.\n",
    "\n",
    "(6) : \n",
    "\n",
    "\n",
    " * Deadlocks and race conditions are two common synchronization issues that can occur in multithreaded programs.\n",
    "\n",
    "A deadlock occurs when two or more threads are blocked, waiting for each other to release a resource that they need. In other words, each thread is waiting for the other thread to finish, which creates a circular dependency and results in a deadlock.\n",
    "\n",
    "A race condition occurs when two or more threads access a shared resource simultaneously, and the result of the execution depends on the timing of the threads. This can lead to unpredictable behavior and can cause the program to crash or produce incorrect results.\n",
    "\n",
    "To avoid deadlocks and race conditions, it is important to use synchronization techniques such as locks, semaphores, and barriers to coordinate access to shared resources among threads. It is also important to design the program to minimize the amount of shared resources and to avoid unnecessary dependencies among threads. Proper testing and debugging of multithreaded programs is also critical to ensure their correctness and reliability."
   ]
  },
  {
   "cell_type": "code",
   "execution_count": null,
   "id": "06750c28-4751-4316-a210-3f5820222389",
   "metadata": {},
   "outputs": [],
   "source": []
  }
 ],
 "metadata": {
  "kernelspec": {
   "display_name": "Python 3 (ipykernel)",
   "language": "python",
   "name": "python3"
  },
  "language_info": {
   "codemirror_mode": {
    "name": "ipython",
    "version": 3
   },
   "file_extension": ".py",
   "mimetype": "text/x-python",
   "name": "python",
   "nbconvert_exporter": "python",
   "pygments_lexer": "ipython3",
   "version": "3.10.8"
  }
 },
 "nbformat": 4,
 "nbformat_minor": 5
}
