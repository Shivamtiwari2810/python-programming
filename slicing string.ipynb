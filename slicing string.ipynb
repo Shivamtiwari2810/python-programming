{
 "cells": [
  {
   "cell_type": "code",
   "execution_count": 1,
   "id": "eb55baae-87bb-4b3f-bac1-16038b89709f",
   "metadata": {},
   "outputs": [
    {
     "name": "stdout",
     "output_type": "stream",
     "text": [
      "Here's an example of using a single quote (' ) in a string\n"
     ]
    }
   ],
   "source": [
    "#Ansewr(1)\n",
    "\n",
    "single_quote_str = \"Here's an example of using a single quote (' ) in a string\"\n",
    "print(single_quote_str)\n"
   ]
  },
  {
   "cell_type": "markdown",
   "id": "706b1eb4-042c-4819-899b-4b4e33d40d8b",
   "metadata": {},
   "source": [
    "Answer (2)\n",
    "\n",
    "The variable x = 'a( is a string type variable.\n",
    "\n",
    "In Python, a string is a sequence of characters enclosed within quotes. Strings can be defined using either single quotes (') or double quotes (\"), as long as the opening and closing quotes are the same.\n",
    "\n",
    "In this case, the variable x is defined using a pair of single quotes ('a(). Since the value within the quotes is a sequence of characters, it is considered a string. Therefore, the variable x is a string type variable.\n",
    "\n",
    "\n",
    "\n"
   ]
  },
  {
   "cell_type": "code",
   "execution_count": 2,
   "id": "89b2d05b-2665-40a2-a524-35f3b9daea36",
   "metadata": {},
   "outputs": [
    {
     "name": "stdout",
     "output_type": "stream",
     "text": [
      "Words in the string: ['Welcome', 'to', 'Python', 'foundation', 'course']\n",
      "Index of \"Python\": 11\n",
      "Number of \"o\" characters in the string: 6\n",
      "Length of the string: 35\n",
      "Concatenated string: Welcome to Python foundation course is amazing!\n"
     ]
    }
   ],
   "source": [
    "#Answer (3)\n",
    "\n",
    "string = 'Welcome to Python foundation course'\n",
    "\n",
    "# Using the split() function to split the string into words\n",
    "words = string.split()\n",
    "print('Words in the string:', words)\n",
    "\n",
    "# Using the find() function to find the index of 'Python'\n",
    "index = string.find('Python')\n",
    "print('Index of \"Python\":', index)\n",
    "\n",
    "# Using the count() function to count the number of 'o' characters in the string\n",
    "count = string.count('o')\n",
    "print('Number of \"o\" characters in the string:', count)\n",
    "\n",
    "# Using the len() function to find the length of the string\n",
    "length = len(string)\n",
    "print('Length of the string:', length)\n",
    "\n",
    "# Concatenating two strings using the + operator\n",
    "string2 = ' is amazing!'\n",
    "concatenated_string = string + string2\n",
    "print('Concatenated string:', concatenated_string)\n"
   ]
  },
  {
   "cell_type": "code",
   "execution_count": 4,
   "id": "f4ed574b-41e7-420b-8039-e93a333ed63f",
   "metadata": {},
   "outputs": [
    {
     "name": "stdout",
     "output_type": "stream",
     "text": [
      "Total number of alphabets in lowercase: 3\n",
      "Total number of alphabets in uppercase: 3\n",
      "Total number of numericals in string: 3\n"
     ]
    }
   ],
   "source": [
    "#Answer (4)\n",
    "\n",
    "wor = 'PanaJ1@T//56('\n",
    "lowercase_count = 0\n",
    "\n",
    "for char in wor:\n",
    "    if char.islower():\n",
    "        lowercase_count += 1\n",
    "\n",
    "print(\"Total number of alphabets in lowercase:\", lowercase_count)\n",
    "\n",
    "wor = 'PanaJ1@T//56('\n",
    "uppercase_count = 0\n",
    "\n",
    "for char in wor:\n",
    "    if char.isupper():\n",
    "        uppercase_count += 1\n",
    "\n",
    "print(\"Total number of alphabets in uppercase:\", uppercase_count)\n",
    "\n",
    "wor = 'PanaJ1@T//56('\n",
    "numeric_count = 0\n",
    "\n",
    "for char in wor:\n",
    "    if char.isdigit():\n",
    "        numeric_count += 1\n",
    "\n",
    "print(\"Total number of numericals in string:\", numeric_count)\n"
   ]
  },
  {
   "cell_type": "code",
   "execution_count": 6,
   "id": "a070b533-105d-47cf-a545-9a4779bb16a9",
   "metadata": {},
   "outputs": [
    {
     "name": "stdout",
     "output_type": "stream",
     "text": [
      "num: 1234 <class 'int'>\n",
      "str_num: 1234 <class 'str'>\n"
     ]
    }
   ],
   "source": [
    "#Answer (5)\n",
    "\n",
    "# Storing a numerical value in a variable\n",
    "num = 1234\n",
    "\n",
    "# Converting the numerical value to a string using the str() function\n",
    "str_num = str(num)\n",
    "\n",
    "# Printing the values and their data types\n",
    "print('num:', num, type(num))\n",
    "print('str_num:', str_num, type(str_num))\n"
   ]
  },
  {
   "cell_type": "code",
   "execution_count": null,
   "id": "99e0fbef-1ce7-41f9-a68e-521a97c7f38b",
   "metadata": {},
   "outputs": [],
   "source": []
  }
 ],
 "metadata": {
  "kernelspec": {
   "display_name": "Python 3 (ipykernel)",
   "language": "python",
   "name": "python3"
  },
  "language_info": {
   "codemirror_mode": {
    "name": "ipython",
    "version": 3
   },
   "file_extension": ".py",
   "mimetype": "text/x-python",
   "name": "python",
   "nbconvert_exporter": "python",
   "pygments_lexer": "ipython3",
   "version": "3.10.8"
  }
 },
 "nbformat": 4,
 "nbformat_minor": 5
}
