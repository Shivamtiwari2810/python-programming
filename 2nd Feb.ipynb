{
 "cells": [
  {
   "cell_type": "markdown",
   "id": "6504c924-103f-4c56-b574-8d293afb9c65",
   "metadata": {},
   "source": [
    "         Answer 1\n",
    "\n",
    "A for loop is a control flow statement that executes code repeatedly for a particular number\n",
    "of iterations. In this control flow statement, the keyword used is for. The for loop is used\n",
    "when the number of iterations is already known.\n",
    "\n"
   ]
  },
  {
   "cell_type": "code",
   "execution_count": 3,
   "id": "4f981b98-2359-40f3-8ba6-06241634cc70",
   "metadata": {},
   "outputs": [
    {
     "name": "stdout",
     "output_type": "stream",
     "text": [
      "1\n",
      "2\n",
      "3\n",
      "4\n",
      "5\n",
      "6\n",
      "7\n",
      "8\n",
      "9\n",
      "10\n"
     ]
    }
   ],
   "source": [
    "# Example of for loop\n",
    "l = [1, 2, 3,4,5,6,7,8,9,10] # Initialization\n",
    "for i in l: # Condition and Updation\n",
    "    print(i)"
   ]
  },
  {
   "cell_type": "markdown",
   "id": "436eefdf-74a4-4c9f-8507-e58e8e89fbab",
   "metadata": {},
   "source": [
    "While loop:\n",
    "A loop that executes a single statement or a group of statements for the given true\n",
    "condition. The keyword used to represent this loop is \"while\". A \"while\" loop is used when\n",
    "the number of iterations is unknown. The statement repeats itself till the boolean value"
   ]
  },
  {
   "cell_type": "code",
   "execution_count": 7,
   "id": "9a015d6c-e6ff-413a-a6db-6fbfeff0560c",
   "metadata": {},
   "outputs": [
    {
     "name": "stdout",
     "output_type": "stream",
     "text": [
      "1\n",
      "2\n",
      "3\n"
     ]
    }
   ],
   "source": [
    "\n",
    "# Example of while loop\n",
    "i = 1 # Initialization\n",
    "while i < 4: # Condition\n",
    "    print(i)\n",
    "    i += 1 # Updation"
   ]
  },
  {
   "cell_type": "code",
   "execution_count": 11,
   "id": "ea81c750-e73d-44de-a36b-31fed3d47a30",
   "metadata": {},
   "outputs": [
    {
     "name": "stdout",
     "output_type": "stream",
     "text": [
      "sum = 4950\n"
     ]
    }
   ],
   "source": [
    "# Answer 2\n",
    "sum1 = 0\n",
    "for i in range(1,100):\n",
    "    sum1= sum1+i\n",
    "print(f\"sum = {sum1}\")"
   ]
  },
  {
   "cell_type": "code",
   "execution_count": 13,
   "id": "636f4cda-75cf-4551-a249-bbb6e05fe748",
   "metadata": {},
   "outputs": [
    {
     "name": "stdout",
     "output_type": "stream",
     "text": [
      "product = 362880\n"
     ]
    }
   ],
   "source": [
    "product = 1\n",
    "for i in range(1,10):\n",
    "    product= product*i\n",
    "print(f\"product = {product}\")"
   ]
  },
  {
   "cell_type": "code",
   "execution_count": 15,
   "id": "8e05ee7a-cbeb-4d6c-af73-b58841a8fb87",
   "metadata": {},
   "outputs": [
    {
     "name": "stdout",
     "output_type": "stream",
     "text": [
      "sum = 55\n"
     ]
    }
   ],
   "source": [
    "sum1 = 0\n",
    "i = 0\n",
    "while i <= 10:\n",
    "    sum1 = sum1 + i\n",
    "    i = i+1\n",
    "print(f\"sum = {sum1}\")\n"
   ]
  },
  {
   "cell_type": "code",
   "execution_count": 21,
   "id": "70de8c65-ba27-4f18-a192-9ef103be8b41",
   "metadata": {},
   "outputs": [
    {
     "name": "stdin",
     "output_type": "stream",
     "text": [
      "enter units =  1000\n"
     ]
    },
    {
     "name": "stdout",
     "output_type": "stream",
     "text": [
      "Total Electricty Bill Charge = 16050.0 rupees\n"
     ]
    }
   ],
   "source": [
    "#Answer 3\n",
    "unit = int(input(\"enter units = \"))\n",
    "total_charge = 0\n",
    "i = 1\n",
    "while i <= unit:\n",
    "    if i <= 100:\n",
    "        total_charge = total_charge + 4.5\n",
    "    if i > 100 and i <= 200:\n",
    "        total_charge = total_charge + 6\n",
    "    if i > 200 and i <= 300:\n",
    "        total_charge = total_charge + 10\n",
    "    if i > 300:\n",
    "        total_charge = total_charge + 20\n",
    " \n",
    "    i = i+1\n",
    "print(f\"Total Electricty Bill Charge = {total_charge} rupees\")"
   ]
  },
  {
   "cell_type": "code",
   "execution_count": 23,
   "id": "4c424148-097d-4a30-a612-b1bca00b1069",
   "metadata": {},
   "outputs": [
    {
     "name": "stdout",
     "output_type": "stream",
     "text": [
      "[2, 4, 5, 6, 8, 10, 12, 14, 15, 16, 18, 20, 22, 24, 25, 26, 28, 30, 32, 34, 35, 36, 38, 40, 42, 44, 45, 46, 48, 50, 52, 54, 55, 56, 58, 60, 62, 64, 65, 66, 68, 70, 72, 74, 75, 76, 78, 80, 82, 84, 85, 86, 88, 90, 92, 94, 95, 96, 98, 100]\n"
     ]
    }
   ],
   "source": [
    "#Answer 4\n",
    "\n",
    "l = list(range(1,101))\n",
    "l1 = []\n",
    "for i in l:\n",
    "    cube = i ** 3\n",
    "    if cube % 4 == 0 or cube % 5 == 0:\n",
    "        l1.append(i)\n",
    "print(l1)"
   ]
  },
  {
   "cell_type": "code",
   "execution_count": 25,
   "id": "f0dd90b6-505c-4a92-a301-5fb54cb002e6",
   "metadata": {},
   "outputs": [
    {
     "name": "stdout",
     "output_type": "stream",
     "text": [
      "[2, 4, 5, 6, 8, 10, 12, 14, 15, 16, 18, 20, 22, 24, 25, 26, 28, 30, 32, 34, 35, 36, 38, 40, 42, 44, 45, 46, 48, 50, 52, 54, 55, 56, 58, 60, 62, 64, 65, 66, 68, 70, 72, 74, 75, 76, 78, 80, 82, 84, 85, 86, 88, 90, 92, 94, 95, 96, 98, 100]\n"
     ]
    }
   ],
   "source": [
    "#using while loop\n",
    "\n",
    "l = list(range(1,101))\n",
    "l1 = []\n",
    "i = 1\n",
    "while i <= len(l):\n",
    "    cube = i ** 3\n",
    "    if cube % 4 == 0 or cube % 5 == 0:\n",
    "        l1.append(i)\n",
    "    i = i+1\n",
    "print(l1)\n"
   ]
  },
  {
   "cell_type": "code",
   "execution_count": 26,
   "id": "5c693948-0a94-40c2-a014-d984f5f94dd6",
   "metadata": {},
   "outputs": [
    {
     "name": "stdout",
     "output_type": "stream",
     "text": [
      "vowel_count = 12\n",
      "Vowels in given string = ['I', 'a', 'o', 'e', 'o', 'e', 'a', 'a', 'a', 'i', 'e', 'i']\n"
     ]
    }
   ],
   "source": [
    "#answer 5\n",
    "\n",
    "string = \"I want to become a data scientist\"\n",
    "vowel = ['a','A','e','E','i','I','o','O','u','U']\n",
    "vowel_string = []\n",
    "vowel_count = 0\n",
    "for i in string:\n",
    "    for j in vowel:\n",
    "        if i == j:\n",
    "            vowel_count = vowel_count + 1\n",
    "            vowel_string.append(i)\n",
    "print(f\"vowel_count = {vowel_count}\")\n",
    "print(f\"Vowels in given string = {vowel_string}\")"
   ]
  },
  {
   "cell_type": "code",
   "execution_count": null,
   "id": "c7897a90-4b22-4292-95d9-8e2c561259b6",
   "metadata": {},
   "outputs": [],
   "source": []
  }
 ],
 "metadata": {
  "kernelspec": {
   "display_name": "Python 3 (ipykernel)",
   "language": "python",
   "name": "python3"
  },
  "language_info": {
   "codemirror_mode": {
    "name": "ipython",
    "version": 3
   },
   "file_extension": ".py",
   "mimetype": "text/x-python",
   "name": "python",
   "nbconvert_exporter": "python",
   "pygments_lexer": "ipython3",
   "version": "3.10.8"
  }
 },
 "nbformat": 4,
 "nbformat_minor": 5
}
