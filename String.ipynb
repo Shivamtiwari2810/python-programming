{
 "cells": [
  {
   "cell_type": "code",
   "execution_count": 9,
   "id": "2b7ec719-558a-43e5-8b25-b0bd537e9564",
   "metadata": {},
   "outputs": [
    {
     "name": "stdout",
     "output_type": "stream",
     "text": [
      "I'm storing a single quote in this string\n"
     ]
    }
   ],
   "source": [
    "#Ansewr (1)\n",
    "\n",
    "my_string = \"I'm storing a single quote in this string\"\n",
    "print(my_string)\n"
   ]
  },
  {
   "cell_type": "code",
   "execution_count": 10,
   "id": "5fcf24b1-bae5-4c98-9f2e-63fc43add333",
   "metadata": {},
   "outputs": [
    {
     "name": "stdout",
     "output_type": "stream",
     "text": [
      "<class 'str'>\n"
     ]
    }
   ],
   "source": [
    "#Answer (2)\n",
    "\n",
    "x = 'a('\n",
    "print(type(x)) \n"
   ]
  },
  {
   "cell_type": "code",
   "execution_count": 12,
   "id": "014bc1a8-43b1-435d-995b-e61c164f2daf",
   "metadata": {},
   "outputs": [
    {
     "name": "stdout",
     "output_type": "stream",
     "text": [
      "['Welcome', 'to', 'Python', 'foundation', 'course']\n",
      "11\n",
      "6\n",
      "35\n",
      "Welcome to Python foundation course\n"
     ]
    }
   ],
   "source": [
    "#Answer (3)\n",
    "\n",
    "my_string = 'Welcome to Python foundation course'\n",
    "splitted_string = my_string.split()\n",
    "print(splitted_string)\n",
    "['Welcome', 'to', 'Python', 'foundation', 'course']\n",
    "my_string = 'Welcome to Python foundation course'\n",
    "index = my_string.find('Python')\n",
    "print(index)\n",
    "my_string = 'Welcome to Python foundation course'\n",
    "count = my_string.count('o')\n",
    "print(count)\n",
    "my_string = 'Welcome to Python foundation course'\n",
    "length = len(my_string)\n",
    "print(length)\n",
    "string1 = 'Welcome to '\n",
    "string2 = 'Python foundation course'\n",
    "concatenated_string = string1 + string2\n",
    "print(concatenated_string)"
   ]
  },
  {
   "cell_type": "code",
   "execution_count": 14,
   "id": "905829ee-a497-4b1f-bf09-100c3f9f5077",
   "metadata": {},
   "outputs": [
    {
     "name": "stdout",
     "output_type": "stream",
     "text": [
      "Total number of alphabets in lowercase: 3\n",
      "Total number of alphabets in uppercase: 3\n",
      "Total number of numericals in string: 3\n"
     ]
    }
   ],
   "source": [
    "#Answer (4)\n",
    "\n",
    "wor = 'PanaJ1@T//56('\n",
    "lowercase_count = 0\n",
    "\n",
    "for char in wor:\n",
    "    if char.islower():\n",
    "        lowercase_count += 1\n",
    "\n",
    "print(\"Total number of alphabets in lowercase:\", lowercase_count)\n",
    "\n",
    "wor = 'PanaJ1@T//56('\n",
    "uppercase_count = 0\n",
    "\n",
    "for char in wor:\n",
    "    if char.isupper():\n",
    "        uppercase_count += 1\n",
    "\n",
    "print(\"Total number of alphabets in uppercase:\", uppercase_count)\n",
    "\n",
    "wor = 'PanaJ1@T//56('\n",
    "numeric_count = 0\n",
    "\n",
    "for char in wor:\n",
    "    if char.isdigit():\n",
    "        numeric_count += 1\n",
    "\n",
    "print(\"Total number of numericals in string:\", numeric_count)\n"
   ]
  },
  {
   "cell_type": "code",
   "execution_count": 15,
   "id": "45aa56cd-ec9a-4593-9567-f8657cfc01f5",
   "metadata": {},
   "outputs": [
    {
     "name": "stdout",
     "output_type": "stream",
     "text": [
      "num is of type: <class 'int'>\n",
      "num_str is of type: <class 'str'>\n",
      "num_str value is: 42\n"
     ]
    }
   ],
   "source": [
    "#Answer  (5)\n",
    "\n",
    "num = 42  # Storing a numerical value in the variable 'num'\n",
    "num_str = str(num)  # Converting the numerical value into a string\n",
    "\n",
    "print(\"num is of type:\", type(num))\n",
    "print(\"num_str is of type:\", type(num_str))\n",
    "print(\"num_str value is:\", num_str)\n"
   ]
  },
  {
   "cell_type": "code",
   "execution_count": null,
   "id": "d5918265-ebb8-4391-a802-3d37610bd149",
   "metadata": {},
   "outputs": [],
   "source": []
  }
 ],
 "metadata": {
  "kernelspec": {
   "display_name": "Python 3 (ipykernel)",
   "language": "python",
   "name": "python3"
  },
  "language_info": {
   "codemirror_mode": {
    "name": "ipython",
    "version": 3
   },
   "file_extension": ".py",
   "mimetype": "text/x-python",
   "name": "python",
   "nbconvert_exporter": "python",
   "pygments_lexer": "ipython3",
   "version": "3.10.8"
  }
 },
 "nbformat": 4,
 "nbformat_minor": 5
}
