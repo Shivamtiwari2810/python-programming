{
 "cells": [
  {
   "cell_type": "markdown",
   "id": "0631e39b-f37f-438d-8825-45ffec22d259",
   "metadata": {},
   "source": [
    "answer (1)\n",
    "\n",
    " * Abstraction is one of the fundamental concepts of Object-Oriented Programming (OOPs) that allows us to focus on essential features of an object rather than representing its complexity. It is the process of hiding complex implementation details and providing only the necessary information to the user.\n",
    "\n",
    "In OOPs, Abstraction can be achieved through abstract classes and interfaces. An abstract class is a class that contains at least one abstract method, and it can't be instantiated. An abstract method is a method that doesn't have any implementation, and its body is left empty. The implementation of an abstract method is left to its subclasses. Interfaces, on the other hand, are a collection of abstract methods and can't be instantiated. They define a set of behaviors that a class can implement.\n",
    "\n",
    " *  example to understand Abstraction better. Suppose we want to design a program for a car rental company. We can create an abstract class called \"Vehicle,\" which contains common properties of all vehicles such as \"make,\" \"model,\" \"color,\" \"year,\" etc. The Vehicle class can also have some abstract methods like \"start,\" \"stop,\" \"accelerate,\" and \"brake.\" These methods can be implemented differently for different types of vehicles like a car, a truck, or a bike.\n",
    "\n",
    "Now, we can create subclasses of the Vehicle class, such as \"Car,\" \"Truck,\" and \"Bike,\" and provide the implementation for the abstract methods. For instance, the \"start\" method for a car can be different from a bike, and hence the respective subclass can implement the \"start\" method accordingly.\n",
    "\n",
    "In this way, Abstraction allows us to focus on the essential properties and behaviors of an object and hide the unnecessary details. It also enables us to make changes to the underlying implementation without affecting the rest of the program."
   ]
  },
  {
   "cell_type": "markdown",
   "id": "97bfd8cc-2a7b-45c4-b2b0-f550014559ff",
   "metadata": {},
   "source": [
    "Answer (2)\n",
    "\n",
    " * Abstraction and Encapsulation are two important concepts in Object-Oriented Programming (OOPs) that help to organize and manage code effectively.\n",
    "\n",
    "Abstraction is the process of hiding complexity and providing only the essential features to the user. It focuses on the behavior of an object and its essential properties, while hiding the underlying implementation details. Abstraction can be achieved through abstract classes, interfaces, and inheritance.\n",
    "\n",
    "Encapsulation, on the other hand, is the process of wrapping data and behavior within a single unit or object. It provides data hiding by preventing direct access to the internal data of an object from outside. Encapsulation can be achieved through access modifiers such as private, public, protected.\n",
    "\n"
   ]
  },
  {
   "cell_type": "code",
   "execution_count": 1,
   "id": "ba9853cd-a0e2-4705-9b4e-53255a5583c3",
   "metadata": {},
   "outputs": [
    {
     "name": "stdout",
     "output_type": "stream",
     "text": [
      "Starting the car\n",
      "Stopping the car\n",
      "Starting the bike\n",
      "Stopping the bike\n"
     ]
    }
   ],
   "source": [
    "# Abstraction example\n",
    "\n",
    "from abc import ABC, abstractmethod\n",
    "\n",
    "class Vehicle(ABC):\n",
    "    def __init__(self, make, model, year, color):\n",
    "        self.make = make\n",
    "        self.model = model\n",
    "        self.year = year\n",
    "        self.color = color\n",
    "        \n",
    "    @abstractmethod\n",
    "    def start(self):\n",
    "        pass\n",
    "    \n",
    "    @abstractmethod\n",
    "    def stop(self):\n",
    "        pass\n",
    "\n",
    "class Car(Vehicle):\n",
    "    def start(self):\n",
    "        print(\"Starting the car\")\n",
    "        \n",
    "    def stop(self):\n",
    "        print(\"Stopping the car\")\n",
    "        \n",
    "class Bike(Vehicle):\n",
    "    def start(self):\n",
    "        print(\"Starting the bike\")\n",
    "        \n",
    "    def stop(self):\n",
    "        print(\"Stopping the bike\")\n",
    "        \n",
    "car = Car(\"Honda\", \"City\", 2021, \"Black\")\n",
    "bike = Bike(\"Harley-Davidson\", \"Street 750\", 2020, \"Red\")\n",
    "\n",
    "car.start()\n",
    "car.stop()\n",
    "\n",
    "bike.start()\n",
    "bike.stop()\n"
   ]
  },
  {
   "cell_type": "code",
   "execution_count": 3,
   "id": "357e21a6-353b-4a9d-b8db-cc355bfc24c9",
   "metadata": {},
   "outputs": [
    {
     "name": "stdout",
     "output_type": "stream",
     "text": [
      "Balance: 1000\n",
      "Balance: 1500\n"
     ]
    }
   ],
   "source": [
    "# Encapsulation example\n",
    "\n",
    "class Account:\n",
    "    def __init__(self, account_number, account_holder, balance):\n",
    "        self.__account_number = account_number\n",
    "        self.__account_holder = account_holder\n",
    "        self.__balance = balance\n",
    "        \n",
    "    def get_balance(self):\n",
    "        return self.__balance\n",
    "        \n",
    "    def deposit(self, amount):\n",
    "        self.__balance += amount\n",
    "        \n",
    "account = Account(123456789, \"shivam\", 1000)\n",
    "\n",
    "# access balance using the get_balance method\n",
    "print(\"Balance:\", account.get_balance())\n",
    "\n",
    "# deposit some money\n",
    "account.deposit(500)\n",
    "\n",
    "# access balance again using the get_balance method\n",
    "print(\"Balance:\", account.get_balance())\n"
   ]
  },
  {
   "cell_type": "markdown",
   "id": "b72f032e-5deb-4a7f-9b48-89d0c0f347b8",
   "metadata": {},
   "source": [
    "Answer (3)\n",
    "\n",
    "          * In Python, the abc module provides support for Abstract Base Classes (ABCs). An Abstract Base Class is a class that cannot be instantiated and serves as a base for other classes. It defines a set of methods that must be implemented by any concrete class that inherits from it.\n",
    "\n",
    "The abc module provides a way to define Abstract Base Classes, which can be used to enforce the implementation of certain methods in the derived classes. This allows us to create a common interface for a group of related classes, ensuring that they all have the same set of methods.\n",
    "\n",
    "The abc module is used for several purposes, including:\n",
    "\n",
    "Defining Abstract Base Classes - The abc module provides the ABC class, which can be used as a base class to define an abstract base class. The abstract methods can be defined using the @abstractmethod decorator.\n",
    "\n",
    "Enforcing the implementation of methods - When a class inherits from an abstract base class, it must implement all the abstract methods defined in the base class. Otherwise, a TypeError will be raised.\n",
    "\n",
    "Polymorphism - Abstract Base Classes provide a common interface for a group of related classes. This allows us to write polymorphic code that can work with any of the classes that implement the same interface.\n"
   ]
  },
  {
   "cell_type": "code",
   "execution_count": 4,
   "id": "47879faf-7f0d-450f-8532-e9747b872818",
   "metadata": {},
   "outputs": [
    {
     "name": "stdout",
     "output_type": "stream",
     "text": [
      "Rectangle Area: 20\n",
      "Rectangle Perimeter: 18\n",
      "Circle Area: 28.26\n",
      "Circle Perimeter: 18.84\n"
     ]
    }
   ],
   "source": [
    "#Example\n",
    "from abc import ABC, abstractmethod\n",
    "\n",
    "class Shape(ABC):\n",
    "    @abstractmethod\n",
    "    def area(self):\n",
    "        pass\n",
    "    \n",
    "    @abstractmethod\n",
    "    def perimeter(self):\n",
    "        pass\n",
    "\n",
    "class Rectangle(Shape):\n",
    "    def __init__(self, length, width):\n",
    "        self.length = length\n",
    "        self.width = width\n",
    "        \n",
    "    def area(self):\n",
    "        return self.length * self.width\n",
    "    \n",
    "    def perimeter(self):\n",
    "        return 2 * (self.length + self.width)\n",
    "    \n",
    "class Circle(Shape):\n",
    "    def __init__(self, radius):\n",
    "        self.radius = radius\n",
    "        \n",
    "    def area(self):\n",
    "        return 3.14 * self.radius ** 2\n",
    "    \n",
    "    def perimeter(self):\n",
    "        return 2 * 3.14 * self.radius\n",
    "\n",
    "r = Rectangle(4, 5)\n",
    "print(\"Rectangle Area:\", r.area())\n",
    "print(\"Rectangle Perimeter:\", r.perimeter())\n",
    "\n",
    "c = Circle(3)\n",
    "print(\"Circle Area:\", c.area())\n",
    "print(\"Circle Perimeter:\", c.perimeter())\n"
   ]
  },
  {
   "cell_type": "markdown",
   "id": "84887cde-722c-45da-ac97-9f9c19f4e448",
   "metadata": {},
   "source": [
    "Answer (4)\n",
    "\n",
    "         In object-oriented programming, data abstraction is achieved by hiding the implementation details of a class and exposing only the necessary information to the user. This can be done in Python using various mechanisms, such as:\n",
    "\n",
    "Access Modifiers: Python doesn't have built-in access modifiers like other programming languages, but we can achieve a similar effect using conventions. We can prefix the name of a class attribute or method with an underscore to indicate that it is intended to be private or protected. This convention indicates that the attribute or method should not be accessed directly from outside the class.\n",
    "\n",
    "Property Decorators: In Python, we can use property decorators to provide a way to access private or protected attributes of a class. The property decorator allows us to define getter and setter methods that can be used to access or modify the private or protected attribute.\n",
    "\n",
    "Abstract Base Classes: We can use the abc module to define an abstract base class that defines a common interface for a group of related classes. This allows us to enforce the implementation of certain methods in the derived classes, providing a way to achieve data abstraction."
   ]
  },
  {
   "cell_type": "code",
   "execution_count": 5,
   "id": "6262a473-650c-418a-a39d-ccc8a27d2100",
   "metadata": {},
   "outputs": [
    {
     "name": "stdout",
     "output_type": "stream",
     "text": [
      "Initial Balance: 1000\n",
      "Modified Balance: 1500\n"
     ]
    },
    {
     "ename": "ValueError",
     "evalue": "Balance can't be negative",
     "output_type": "error",
     "traceback": [
      "\u001b[0;31m---------------------------------------------------------------------------\u001b[0m",
      "\u001b[0;31mValueError\u001b[0m                                Traceback (most recent call last)",
      "Cell \u001b[0;32mIn[5], line 25\u001b[0m\n\u001b[1;32m     22\u001b[0m \u001b[38;5;28mprint\u001b[39m(\u001b[38;5;124m\"\u001b[39m\u001b[38;5;124mModified Balance:\u001b[39m\u001b[38;5;124m\"\u001b[39m, account\u001b[38;5;241m.\u001b[39mbalance)\n\u001b[1;32m     24\u001b[0m \u001b[38;5;66;03m# Try to set negative balance (raises ValueError)\u001b[39;00m\n\u001b[0;32m---> 25\u001b[0m \u001b[43maccount\u001b[49m\u001b[38;5;241;43m.\u001b[39;49m\u001b[43mbalance\u001b[49m \u001b[38;5;241m=\u001b[39m \u001b[38;5;241m-\u001b[39m\u001b[38;5;241m500\u001b[39m\n",
      "Cell \u001b[0;32mIn[5], line 14\u001b[0m, in \u001b[0;36mBankAccount.balance\u001b[0;34m(self, value)\u001b[0m\n\u001b[1;32m     11\u001b[0m \u001b[38;5;129m@balance\u001b[39m\u001b[38;5;241m.\u001b[39msetter\n\u001b[1;32m     12\u001b[0m \u001b[38;5;28;01mdef\u001b[39;00m \u001b[38;5;21mbalance\u001b[39m(\u001b[38;5;28mself\u001b[39m, value):\n\u001b[1;32m     13\u001b[0m     \u001b[38;5;28;01mif\u001b[39;00m value \u001b[38;5;241m<\u001b[39m \u001b[38;5;241m0\u001b[39m:\n\u001b[0;32m---> 14\u001b[0m         \u001b[38;5;28;01mraise\u001b[39;00m \u001b[38;5;167;01mValueError\u001b[39;00m(\u001b[38;5;124m\"\u001b[39m\u001b[38;5;124mBalance can\u001b[39m\u001b[38;5;124m'\u001b[39m\u001b[38;5;124mt be negative\u001b[39m\u001b[38;5;124m\"\u001b[39m)\n\u001b[1;32m     15\u001b[0m     \u001b[38;5;28mself\u001b[39m\u001b[38;5;241m.\u001b[39m_balance \u001b[38;5;241m=\u001b[39m value\n",
      "\u001b[0;31mValueError\u001b[0m: Balance can't be negative"
     ]
    }
   ],
   "source": [
    "#Example\n",
    "\n",
    "class BankAccount:\n",
    "    def __init__(self, balance):\n",
    "        self._balance = balance  # protected attribute\n",
    "        \n",
    "    @property\n",
    "    def balance(self):\n",
    "        return self._balance\n",
    "        \n",
    "    @balance.setter\n",
    "    def balance(self, value):\n",
    "        if value < 0:\n",
    "            raise ValueError(\"Balance can't be negative\")\n",
    "        self._balance = value\n",
    "        \n",
    "account = BankAccount(1000)\n",
    "print(\"Initial Balance:\", account.balance)\n",
    "\n",
    "# Modify balance using the setter method\n",
    "account.balance = 1500\n",
    "print(\"Modified Balance:\", account.balance)\n",
    "\n",
    "# Try to set negative balance (raises ValueError)\n",
    "account.balance = -500\n"
   ]
  },
  {
   "cell_type": "markdown",
   "id": "7cf67fd3-86b7-4607-b8ba-3e9bcf3afa77",
   "metadata": {},
   "source": [
    "Answer (5)\n",
    "\n",
    "        No, we cannot create an instance of an abstract class in Python. An abstract class is a class that has one or more abstract methods. An abstract method is a method that has no implementation and is meant to be overridden by the derived classes.\n",
    "\n",
    "Since an abstract class has one or more abstract methods that are not implemented, it is not possible to create an object of the abstract class. An object must have a concrete implementation of all the methods in the class to be created.\n",
    "\n",
    "If we try to create an instance of an abstract class in Python, we will get a TypeError with the message \"Can't instantiate abstract class\"."
   ]
  },
  {
   "cell_type": "code",
   "execution_count": 6,
   "id": "365b1234-00d9-4071-b719-9be93a835f46",
   "metadata": {},
   "outputs": [],
   "source": [
    "#Example\n",
    "from abc import ABC, abstractmethod\n",
    "\n",
    "class Shape(ABC):\n",
    "    @abstractmethod\n",
    "    def area(self):\n",
    "        pass\n",
    "    \n",
    "    @abstractmethod\n",
    "    def perimeter(self):\n",
    "        pass\n"
   ]
  },
  {
   "cell_type": "code",
   "execution_count": 7,
   "id": "ee94cc15-ad84-4ce4-aa58-057d07263008",
   "metadata": {},
   "outputs": [
    {
     "ename": "TypeError",
     "evalue": "Can't instantiate abstract class Shape with abstract methods area, perimeter",
     "output_type": "error",
     "traceback": [
      "\u001b[0;31m---------------------------------------------------------------------------\u001b[0m",
      "\u001b[0;31mTypeError\u001b[0m                                 Traceback (most recent call last)",
      "Cell \u001b[0;32mIn[7], line 1\u001b[0m\n\u001b[0;32m----> 1\u001b[0m s \u001b[38;5;241m=\u001b[39m \u001b[43mShape\u001b[49m\u001b[43m(\u001b[49m\u001b[43m)\u001b[49m\n",
      "\u001b[0;31mTypeError\u001b[0m: Can't instantiate abstract class Shape with abstract methods area, perimeter"
     ]
    }
   ],
   "source": [
    "s = Shape()\n"
   ]
  },
  {
   "cell_type": "code",
   "execution_count": null,
   "id": "52d83ac5-8f92-4e99-b6a1-186b9aeb1157",
   "metadata": {},
   "outputs": [],
   "source": []
  }
 ],
 "metadata": {
  "kernelspec": {
   "display_name": "Python 3 (ipykernel)",
   "language": "python",
   "name": "python3"
  },
  "language_info": {
   "codemirror_mode": {
    "name": "ipython",
    "version": 3
   },
   "file_extension": ".py",
   "mimetype": "text/x-python",
   "name": "python",
   "nbconvert_exporter": "python",
   "pygments_lexer": "ipython3",
   "version": "3.10.8"
  }
 },
 "nbformat": 4,
 "nbformat_minor": 5
}
