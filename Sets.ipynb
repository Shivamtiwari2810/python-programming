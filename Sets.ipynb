{
 "cells": [
  {
   "cell_type": "code",
   "execution_count": 2,
   "id": "2cb7c81c-2912-4108-82ac-c516b5b8ec58",
   "metadata": {},
   "outputs": [
    {
     "name": "stdout",
     "output_type": "stream",
     "text": [
      "{1, 2, 3}\n"
     ]
    }
   ],
   "source": [
    "#Answer No 1\n",
    "\n",
    "\n",
    "#In Python, a set is an unordered collection of unique elements. Sets are similar to lists or tuples, but they cannot contain duplicate values. Sets are also mutable, which means you can add or remove elements from them.\n",
    "\n",
    "#Here's an example of how to create a set in Python\n",
    "my_set = {1, 2, 3}\n",
    "print(my_set) # Output: {1, 2, 3}"
   ]
  },
  {
   "cell_type": "code",
   "execution_count": 3,
   "id": "cb788c3b-9b07-462e-856e-2acb3c4ab717",
   "metadata": {},
   "outputs": [
    {
     "name": "stdout",
     "output_type": "stream",
     "text": [
      "{1, 2, 3}\n"
     ]
    }
   ],
   "source": [
    "#Answer No 2 \n",
    "\n",
    "\n",
    "#In Python, you can create a set by enclosing a collection of comma-separated values in curly braces {} or by using the set() constructor. Here are examples of both methods:\n",
    "#Using curly braces:\n",
    "\n",
    "\n",
    "my_set = {1, 2, 3}\n",
    "print(my_set) # Output: {1, 2, 3}"
   ]
  },
  {
   "cell_type": "code",
   "execution_count": 5,
   "id": "135cdfe5-67c9-4f94-93d0-471f043b4abf",
   "metadata": {},
   "outputs": [
    {
     "name": "stdout",
     "output_type": "stream",
     "text": [
      "{1, 2, 3, 4}\n",
      "{1, 2, 3, 4, 5}\n"
     ]
    }
   ],
   "source": [
    "#Answer No 3\n",
    "\n",
    "#In Python, you can add elements to a set using the add() method or the update() method. Here are examples of both methods:\n",
    "#Using the add() method:\n",
    "\n",
    "my_set = {1, 2, 3}\n",
    "my_set.add(4)\n",
    "print(my_set) # Output: {1, 2, 3, 4}\n",
    "\n",
    "\n",
    "#In this example, we have a set called my_set with three elements. We use the add() method to add the element 4 to the set. The resulting set contains four elements, including the newly added element.\n",
    "#Using the update() method:\n",
    "\n",
    "\n",
    "my_set = {1, 2, 3}\n",
    "my_set.update([3, 4, 5])\n",
    "print(my_set) # Output: {1, 2, 3, 4, 5}\n",
    "\n",
    "\n",
    "#In this example, we have a set called my_set with three elements. We use the update() method to add multiple elements to the set. The argument to the update() method is an iterable, in this case a list, that contains the elements to be added to the set. The resulting set contains five elements, including the elements in the original set and the new elements from the iterable.\n",
    "#Note that when using the add() method, you can only add one element at a time, whereas the update() method allows you to add multiple elements at once. Also note that if you try to add an element to a set that already exists in the set, it will not be added again because sets only contain unique elements."
   ]
  },
  {
   "cell_type": "code",
   "execution_count": 6,
   "id": "874c180b-a91a-40bc-9e10-8a721dd05ea3",
   "metadata": {},
   "outputs": [
    {
     "name": "stdout",
     "output_type": "stream",
     "text": [
      "{1, 2, 4}\n",
      "{1, 2, 4}\n",
      "{2, 3, 4}\n"
     ]
    }
   ],
   "source": [
    "#Answer No 4 \n",
    "\n",
    "\n",
    "\n",
    "#In Python, you can remove elements from a set using the remove(), discard(), or pop() methods. Here are examples of each method:\n",
    "\n",
    "#Using the remove() method:\n",
    "\n",
    "\n",
    "my_set = {1, 2, 3, 4}\n",
    "my_set.remove(3)\n",
    "print(my_set) # Output: {1, 2, 4}\n",
    "\n",
    "\n",
    "\n",
    "#In this example, we have a set called my_set with four elements. We use the remove() method to remove the element 3 from the set. The resulting set contains three elements, including all the elements from the original set except the one that was removed.\n",
    "#Note that if you try to remove an element that doesn't exist in the set, a KeyError will be raised. You can avoid this by using the discard() method instead.\n",
    "\n",
    "#Using the discard() method:\n",
    "\n",
    "\n",
    "my_set = {1, 2, 3, 4}\n",
    "my_set.discard(3)\n",
    "print(my_set) # Output: {1, 2, 4}\n",
    "\n",
    "\n",
    "#In this example, we have a set called my_set with four elements. We use the discard() method to remove the element 3 from the set. The resulting set contains three elements, including all the elements from the original set except the one that was removed.\n",
    "\n",
    "#Note that if you try to remove an element that doesn't exist in the set, no error will be raised. The discard() method simply does nothing in that case.\n",
    "\n",
    "#Using the pop() method:\n",
    "\n",
    "\n",
    "my_set = {1, 2, 3, 4}\n",
    "my_set.pop()\n",
    "print(my_set) # Output: {2, 3, 4}\n",
    "\n",
    "\n",
    "#In this example, we have a set called my_set with four elements. We use the pop() method to remove and return an arbitrary element from the set. The resulting set contains three elements, including all the elements from the original set except the one that was removed.\n",
    "#Note that because sets are unordered, you cannot predict which element will be removed by the pop() method. Also note that if you try to use the pop() method on an empty set, a KeyError will be raised.\n",
    "\n",
    "\n",
    "\n",
    "\n"
   ]
  },
  {
   "cell_type": "code",
   "execution_count": 7,
   "id": "bb13f353-240a-439a-8de6-3f43eadfc5e4",
   "metadata": {},
   "outputs": [
    {
     "name": "stdout",
     "output_type": "stream",
     "text": [
      "4\n"
     ]
    }
   ],
   "source": [
    "#Answer No 5\n",
    "\n",
    "\n",
    "#In Python, you can get the length of a set using the len() function. Here's an example:\n",
    "\n",
    "my_set = {1, 2, 3, 4}\n",
    "print(len(my_set)) \n",
    "\n",
    "\n",
    "#In this example, we have a set called my_set with four elements. We use the len() function to get the length of the set, which is 4. The len() function works on any iterable, including sets, lists, tuples, and strings.\n",
    "\n",
    "#Note that the length of a set is the number of unique elements in the set, so if there are duplicate elements, they will not be counted multiple times. Also note that the len() function is a built-in function in Python, so you don't need to import any modules to use it."
   ]
  },
  {
   "cell_type": "code",
   "execution_count": null,
   "id": "289e28f0-531f-47de-b403-6c5942835fb0",
   "metadata": {},
   "outputs": [],
   "source": []
  }
 ],
 "metadata": {
  "kernelspec": {
   "display_name": "Python 3 (ipykernel)",
   "language": "python",
   "name": "python3"
  },
  "language_info": {
   "codemirror_mode": {
    "name": "ipython",
    "version": 3
   },
   "file_extension": ".py",
   "mimetype": "text/x-python",
   "name": "python",
   "nbconvert_exporter": "python",
   "pygments_lexer": "ipython3",
   "version": "3.10.8"
  }
 },
 "nbformat": 4,
 "nbformat_minor": 5
}
