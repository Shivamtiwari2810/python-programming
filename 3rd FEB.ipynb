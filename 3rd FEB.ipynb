{
 "cells": [
  {
   "cell_type": "markdown",
   "id": "cbcb3fec-0af3-4fc8-9bba-a3bd63dc4869",
   "metadata": {},
   "source": [
    "#Answer number 1\n",
    "The def keyword is used to create or define a function in python"
   ]
  },
  {
   "cell_type": "code",
   "execution_count": 2,
   "id": "a7608a9c-6fef-42e6-a942-cb5db71b8c34",
   "metadata": {},
   "outputs": [
    {
     "data": {
      "text/plain": [
       "[1, 3, 5, 7, 9, 11, 13, 15, 17, 19, 21, 23, 25]"
      ]
     },
     "execution_count": 2,
     "metadata": {},
     "output_type": "execute_result"
    }
   ],
   "source": [
    "# function to return a list of odd numbers from 1 to 25\n",
    "def odd():\n",
    "    l = []\n",
    "    for i in range(1,26):\n",
    "        if i%2 != 0:\n",
    "            l.append(i)\n",
    " \n",
    "    return l\n",
    "odd()"
   ]
  },
  {
   "cell_type": "markdown",
   "id": "07a497b7-a259-41b7-ba5b-8d2a2147cc4e",
   "metadata": {},
   "source": [
    "Answer number 2\n",
    "*args\n",
    "args allows us to pass a variable number of non-keyword arguments to a Python function.\n",
    "In the function, we should use an asterisk () before the parameter name to pass a variable\n",
    "number of arguments."
   ]
  },
  {
   "cell_type": "code",
   "execution_count": 21,
   "id": "101cc2ab-2d61-4a83-af92-af582cdc00f7",
   "metadata": {},
   "outputs": [
    {
     "data": {
      "text/plain": [
       "1"
      ]
     },
     "execution_count": 21,
     "metadata": {},
     "output_type": "execute_result"
    }
   ],
   "source": [
    "# Example of args\n",
    "# Function to find sum of numbers using *args\n",
    "def add(*numbers):\n",
    "    Sum = 0\n",
    "    for i in numbers:\n",
    "        Sum += i\n",
    "        return Sum \n",
    "add(1,2,3,4,5)"
   ]
  },
  {
   "cell_type": "code",
   "execution_count": 23,
   "id": "6d9b98a1-8120-4798-a11a-30661aa31c66",
   "metadata": {},
   "outputs": [
    {
     "data": {
      "text/plain": [
       "250"
      ]
     },
     "execution_count": 23,
     "metadata": {},
     "output_type": "execute_result"
    }
   ],
   "source": [
    "# Function to find total marks using **kwargs\n",
    "def total_marks(**subject):\n",
    "    total = 0\n",
    "    for marks in subject.values():\n",
    "        total += marks\n",
    "    return total\n",
    "total_marks(maths=80, science=90, english=80)"
   ]
  },
  {
   "cell_type": "code",
   "execution_count": 24,
   "id": "b4ec863b-1f5b-47f2-bd6a-476312d53e8a",
   "metadata": {},
   "outputs": [
    {
     "name": "stdout",
     "output_type": "stream",
     "text": [
      "2\n",
      "4\n",
      "6\n",
      "8\n",
      "10\n"
     ]
    }
   ],
   "source": [
    "#Answer 3\n",
    "l = [2, 4, 6, 8, 10, 12, 14, 16, 18, 20]\n",
    "l1 = iter(l)\n",
    "print(next(l1))\n",
    "print(next(l1))\n",
    "print(next(l1))\n",
    "print(next(l1))\n",
    "print(next(l1))"
   ]
  },
  {
   "cell_type": "code",
   "execution_count": 25,
   "id": "d4296321-92e4-4fd2-8cd0-8eab19b6cbd2",
   "metadata": {},
   "outputs": [
    {
     "name": "stdout",
     "output_type": "stream",
     "text": [
      "The original list is : [1, 4, 5, 6, 7]\n"
     ]
    }
   ],
   "source": [
    "#Answer 4\n",
    "# generator to print even numbers\n",
    "def print_even(test_list):\n",
    "    for i in test_list:\n",
    "        if i % 2 == 0:\n",
    "            yield i\n",
    "# initializing list\n",
    "test_list = [1, 4, 5, 6, 7]\n",
    "# printing initial list\n",
    "print(\"The original list is : \" + str(test_list))"
   ]
  },
  {
   "cell_type": "code",
   "execution_count": 26,
   "id": "7c6a91d1-9c3e-4974-9186-faf74b297760",
   "metadata": {},
   "outputs": [
    {
     "name": "stdout",
     "output_type": "stream",
     "text": [
      "The even numbers in list are : \n",
      "4\n",
      "6\n"
     ]
    }
   ],
   "source": [
    "# printing even numbers\n",
    "print(\"The even numbers in list are : \")\n",
    "for j in print_even(test_list):\n",
    "    print(j)"
   ]
  },
  {
   "cell_type": "code",
   "execution_count": 36,
   "id": "a44959c3-b450-4d91-81a5-cca1c501ab7a",
   "metadata": {},
   "outputs": [
    {
     "name": "stdout",
     "output_type": "stream",
     "text": [
      "1\n",
      "2\n",
      "3\n",
      "5\n",
      "8\n",
      "13\n",
      "21\n",
      "34\n",
      "55\n",
      "89\n"
     ]
    }
   ],
   "source": [
    "# Answer number 6\n",
    "\n",
    "i = 1\n",
    "n1 = 0\n",
    "n2 = 1\n",
    "while i <= 10:\n",
    "    fab_no = n1+n2\n",
    "    print(fab_no)\n",
    "    n1,n2 = n2,fab_no\n",
    "    i+=1"
   ]
  },
  {
   "cell_type": "code",
   "execution_count": 37,
   "id": "fd1aa360-7ad8-4591-9174-f4ec22745332",
   "metadata": {},
   "outputs": [
    {
     "data": {
      "text/plain": [
       "['p', 'w', 's', 'k', 'i', 'l', 'l', 's']"
      ]
     },
     "execution_count": 37,
     "metadata": {},
     "output_type": "execute_result"
    }
   ],
   "source": [
    "# Answer number 7\n",
    "\n",
    "s = 'pwskills'\n",
    "[i for i in s]"
   ]
  },
  {
   "cell_type": "code",
   "execution_count": 44,
   "id": "f7a70d03-91a5-475c-9654-6a716b94442d",
   "metadata": {},
   "outputs": [
    {
     "name": "stdin",
     "output_type": "stream",
     "text": [
      "Enter a number =  24\n"
     ]
    },
    {
     "name": "stdout",
     "output_type": "stream",
     "text": [
      "Not a palindrome!\n"
     ]
    }
   ],
   "source": [
    "## Answer number 8\n",
    "num=int(input(\"Enter a number = \"))\n",
    "temp=num\n",
    "rev=0\n",
    "while(num>0):\n",
    "    dig=num%10\n",
    "    rev=rev*10+dig\n",
    "    num=num//10\n",
    "if(temp==rev):\n",
    "    print(\"The number is palindrome!\")\n",
    "else:\n",
    "    print(\"Not a palindrome!\")\n"
   ]
  },
  {
   "cell_type": "code",
   "execution_count": 45,
   "id": "944ef2f7-787b-44bc-bb33-b08b70a63470",
   "metadata": {},
   "outputs": [
    {
     "data": {
      "text/plain": [
       "[1,\n",
       " 3,\n",
       " 5,\n",
       " 7,\n",
       " 9,\n",
       " 11,\n",
       " 13,\n",
       " 15,\n",
       " 17,\n",
       " 19,\n",
       " 21,\n",
       " 23,\n",
       " 25,\n",
       " 27,\n",
       " 29,\n",
       " 31,\n",
       " 33,\n",
       " 35,\n",
       " 37,\n",
       " 39,\n",
       " 41,\n",
       " 43,\n",
       " 45,\n",
       " 47,\n",
       " 49,\n",
       " 51,\n",
       " 53,\n",
       " 55,\n",
       " 57,\n",
       " 59,\n",
       " 61,\n",
       " 63,\n",
       " 65,\n",
       " 67,\n",
       " 69,\n",
       " 71,\n",
       " 73,\n",
       " 75,\n",
       " 77,\n",
       " 79,\n",
       " 81,\n",
       " 83,\n",
       " 85,\n",
       " 87,\n",
       " 89,\n",
       " 91,\n",
       " 93,\n",
       " 95,\n",
       " 97,\n",
       " 99]"
      ]
     },
     "execution_count": 45,
     "metadata": {},
     "output_type": "execute_result"
    }
   ],
   "source": [
    "# Answer number 9\n",
    "[i for i in range(1,101) if i%2!=0]\n"
   ]
  },
  {
   "cell_type": "code",
   "execution_count": null,
   "id": "c17653f0-72d8-4111-a09d-9285fe7031e4",
   "metadata": {},
   "outputs": [],
   "source": []
  }
 ],
 "metadata": {
  "kernelspec": {
   "display_name": "Python 3 (ipykernel)",
   "language": "python",
   "name": "python3"
  },
  "language_info": {
   "codemirror_mode": {
    "name": "ipython",
    "version": 3
   },
   "file_extension": ".py",
   "mimetype": "text/x-python",
   "name": "python",
   "nbconvert_exporter": "python",
   "pygments_lexer": "ipython3",
   "version": "3.10.8"
  }
 },
 "nbformat": 4,
 "nbformat_minor": 5
}
