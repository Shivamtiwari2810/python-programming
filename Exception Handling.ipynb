{
 "cells": [
  {
   "cell_type": "markdown",
   "id": "d0681003-61c0-4732-bd3b-8e85fd025a54",
   "metadata": {},
   "source": [
    "#Answer (1)\n",
    "\n",
    "\n",
    "In Python, an exception is an event that occurs during the execution of a program, which disrupts the normal flow of the program's instructions. When an exceptional condition arises, an exception object is created to represent the error.\n",
    "\n",
    "Exceptions are used to handle errors that occur during the execution of a program. Python has many built-in exceptions, such as TypeError, ValueError, ZeroDivisionError, etc. Additionally, users can define their own custom exceptions.\n",
    "\n",
    "The main difference between exceptions and syntax errors is that exceptions are raised during program execution, while syntax errors occur when the program is parsed. Syntax errors are typically caused by invalid code or incorrect syntax, while exceptions are caused by runtime errors, such as trying to divide by zero or accessing a non-existent file.\n",
    "\n",
    "Here are some of the key differences between exceptions and syntax errors:\n",
    "\n",
    "Syntax errors are caught by the Python interpreter before the program is executed, while exceptions occur during program execution.\n",
    "Syntax errors are usually caused by a typo or a mistake in the code, while exceptions are caused by unexpected events during program execution.\n",
    "Syntax errors are always fatal and cannot be handled by the program, while exceptions can be caught and handled by the program using try/except blocks."
   ]
  },
  {
   "cell_type": "code",
   "execution_count": 1,
   "id": "075294e9-de59-48c1-bc36-53d945a1d490",
   "metadata": {},
   "outputs": [
    {
     "name": "stdin",
     "output_type": "stream",
     "text": [
      "Enter the first number:  0\n",
      "Enter the second number:  25\n"
     ]
    },
    {
     "name": "stdout",
     "output_type": "stream",
     "text": [
      "The result of the division is 0.0\n"
     ]
    },
    {
     "name": "stdin",
     "output_type": "stream",
     "text": [
      "Enter the first number:  0\n",
      "Enter the second number:  0\n"
     ]
    },
    {
     "name": "stdout",
     "output_type": "stream",
     "text": [
      "Error: Cannot divide by zero\n"
     ]
    }
   ],
   "source": [
    "#Answer (2)\n",
    "\n",
    "#If an exception is not handled in a program, it will cause the program to terminate abruptly, and an error message will be displayed to the user indicating the type of exception that occurred. This can be problematic, especially in cases where the program is part of a larger system or is being used by other applications, as the abrupt termination of the program can lead to other issues.\n",
    "\n",
    "\n",
    "# This program prompts the user to enter two integers and divides them\n",
    "\n",
    "num1 = int(input(\"Enter the first number: \"))\n",
    "num2 = int(input(\"Enter the second number: \"))\n",
    "\n",
    "result = num1 / num2\n",
    "\n",
    "print(f\"The result of the division is {result}\")\n",
    "#If the user enters 0 as the second number, a ZeroDivisionError will be raised, as it is not possible to divide by zero. If this exception is not handled, the program will terminate with an error message, which may not be helpful or informative to the user.\n",
    "#To handle the exception, we can use a try/except block to catch the exception and provide a more meaningful error message to the user:\n",
    "# This program prompts the user to enter two integers and divides them\n",
    "\n",
    "try:\n",
    "    num1 = int(input(\"Enter the first number: \"))\n",
    "    num2 = int(input(\"Enter the second number: \"))\n",
    "\n",
    "    result = num1 / num2\n",
    "\n",
    "    print(f\"The result of the division is {result}\")\n",
    "\n",
    "except ZeroDivisionError:\n",
    "    print(\"Error: Cannot divide by zero\")"
   ]
  },
  {
   "cell_type": "code",
   "execution_count": 6,
   "id": "a913ad40-33e8-42c1-8e07-cc8879cbfef6",
   "metadata": {},
   "outputs": [
    {
     "name": "stdin",
     "output_type": "stream",
     "text": [
      "Enter a number:  50\n",
      "Enter another number:  0\n"
     ]
    },
    {
     "name": "stdout",
     "output_type": "stream",
     "text": [
      "Cannot divide by zero.\n"
     ]
    }
   ],
   "source": [
    "# Answer (3)\n",
    "\n",
    "#In Python, the try and except statements are used to handle exceptions. \n",
    "try:\n",
    "    x = int(input(\"Enter a number: \"))\n",
    "    y = int(input(\"Enter another number: \"))\n",
    "    result = x / y\n",
    "    print(\"The result is:\", result)\n",
    "except ValueError:\n",
    "    print(\"Invalid input. Please enter a number.\")\n",
    "except ZeroDivisionError:\n",
    "    print(\"Cannot divide by zero.\")\n",
    "except Exception as e:\n",
    "    print(\"An error occurred:\", str(e))\n",
    "#In this example, the try block contains code that may raise exceptions. The except blocks specify the type of exceptions that should be caught and how to handle them.\n",
    "#The first except block catches a ValueError exception, which occurs when the user enters an invalid input that cannot be converted to an integer. The second except block catches a ZeroDivisionError exception, which occurs when the user enters 0 as the second number. The third except block catches any other type of exception that may occur and prints a general error message.\n",
    "#If an exception is raised in the try block, the corresponding except block is executed, and the program continues to run without crashing. In this example, if the user enters an invalid input or tries to divide by zero, the corresponding error message is printed, and the program continues to run."
   ]
  },
  {
   "cell_type": "code",
   "execution_count": 8,
   "id": "f0149172-80f0-4a7f-b8d7-de236fe05a5b",
   "metadata": {},
   "outputs": [
    {
     "name": "stdin",
     "output_type": "stream",
     "text": [
      "Enter a number:  0\n"
     ]
    },
    {
     "name": "stdout",
     "output_type": "stream",
     "text": [
      "You cannot divide by zero\n"
     ]
    }
   ],
   "source": [
    "#Answer (4)\n",
    "\n",
    "try:\n",
    "    x = int(input(\"Enter a number: \"))\n",
    "    y = 10 / x\n",
    "    print(y)\n",
    "except ZeroDivisionError:\n",
    "    print(\"You cannot divide by zero\")\n"
   ]
  },
  {
   "cell_type": "code",
   "execution_count": 9,
   "id": "8e5c95e4-d0e0-4602-8027-47a3e464be18",
   "metadata": {},
   "outputs": [
    {
     "name": "stdin",
     "output_type": "stream",
     "text": [
      "Enter a number:  0\n"
     ]
    },
    {
     "name": "stdout",
     "output_type": "stream",
     "text": [
      "You cannot divide by zero\n",
      "This code will always execute.\n"
     ]
    }
   ],
   "source": [
    "# use of finnaly\n",
    "try:\n",
    "    x = int(input(\"Enter a number: \"))\n",
    "    y = 10 / x\n",
    "    print(y)\n",
    "except ZeroDivisionError:\n",
    "    print(\"You cannot divide by zero\")\n",
    "finally:\n",
    "    print(\"This code will always execute.\")\n"
   ]
  },
  {
   "cell_type": "code",
   "execution_count": 10,
   "id": "ee080cef-4d7a-4b4a-9999-f69d1ae9b452",
   "metadata": {},
   "outputs": [
    {
     "ename": "Exception",
     "evalue": "x cannot be greater than 5",
     "output_type": "error",
     "traceback": [
      "\u001b[0;31m---------------------------------------------------------------------------\u001b[0m",
      "\u001b[0;31mException\u001b[0m                                 Traceback (most recent call last)",
      "Cell \u001b[0;32mIn[10], line 3\u001b[0m\n\u001b[1;32m      1\u001b[0m x \u001b[38;5;241m=\u001b[39m \u001b[38;5;241m10\u001b[39m\n\u001b[1;32m      2\u001b[0m \u001b[38;5;28;01mif\u001b[39;00m x \u001b[38;5;241m>\u001b[39m \u001b[38;5;241m5\u001b[39m:\n\u001b[0;32m----> 3\u001b[0m     \u001b[38;5;28;01mraise\u001b[39;00m \u001b[38;5;167;01mException\u001b[39;00m(\u001b[38;5;124m\"\u001b[39m\u001b[38;5;124mx cannot be greater than 5\u001b[39m\u001b[38;5;124m\"\u001b[39m)\n",
      "\u001b[0;31mException\u001b[0m: x cannot be greater than 5"
     ]
    }
   ],
   "source": [
    "# use raise\n",
    "\n",
    "x = 10\n",
    "if x > 5:\n",
    "    raise Exception(\"x cannot be greater than 5\")\n"
   ]
  },
  {
   "cell_type": "code",
   "execution_count": 11,
   "id": "102cee91-70ae-441f-914a-730c099fe076",
   "metadata": {},
   "outputs": [
    {
     "name": "stdout",
     "output_type": "stream",
     "text": [
      "50\n",
      "28.26\n",
      "Error: Invalid shape provided: triangle\n"
     ]
    }
   ],
   "source": [
    "#Answer (5)\n",
    "\n",
    "#Custom exceptions in Python are user-defined exceptions that extend the built-in Exception class to handle specific situations in a program. They allow developers to create exceptions that are specific to their program's needs and provide more context about the error that occurred.\n",
    "#We might need custom exceptions in Python when we want to handle a specific situation in our program that doesn't fit any of the built-in exception types. For example, let's say we are building a program that calculates the area of different shapes. We could create a custom exception called InvalidShapeError to handle situations where an invalid shape is provided. Here's an example of how we could define and use the InvalidShapeError excep\n",
    "class InvalidShapeError(Exception):\n",
    "    pass\n",
    "\n",
    "def calculate_area(shape, *args):\n",
    "    if shape == 'rectangle':\n",
    "        if len(args) != 2:\n",
    "            raise InvalidShapeError(\"Rectangle requires two arguments: length and width\")\n",
    "        return args[0] * args[1]\n",
    "    elif shape == 'circle':\n",
    "        if len(args) != 1:\n",
    "            raise InvalidShapeError(\"Circle requires one argument: radius\")\n",
    "        return 3.14 * args[0] ** 2\n",
    "    else:\n",
    "        raise InvalidShapeError(\"Invalid shape provided: \" + shape)\n",
    "\n",
    "try:\n",
    "    area = calculate_area('rectangle', 5, 10)\n",
    "    print(area)\n",
    "    area = calculate_area('circle', 3)\n",
    "    print(area)\n",
    "    area = calculate_area('triangle', 4, 5)\n",
    "    print(area)\n",
    "except InvalidShapeError as e:\n",
    "    print(\"Error:\", e)"
   ]
  },
  {
   "cell_type": "code",
   "execution_count": 12,
   "id": "4d6d0808-2b0f-4d8f-a84f-16cd8531c98d",
   "metadata": {},
   "outputs": [
    {
     "name": "stdout",
     "output_type": "stream",
     "text": [
      "Error: Cannot calculate square root of a negative number\n"
     ]
    }
   ],
   "source": [
    "#Answer(6)\n",
    "\n",
    "class NegativeNumberError(Exception):\n",
    "    \"\"\"Exception raised when a negative number is passed to a function that expects a positive number.\"\"\"\n",
    "\n",
    "    def __init__(self, message):\n",
    "        self.message = message\n",
    "\n",
    "def calculate_square_root(n):\n",
    "    if n < 0:\n",
    "        raise NegativeNumberError(\"Cannot calculate square root of a negative number\")\n",
    "    else:\n",
    "        return n ** 0.5\n",
    "\n",
    "try:\n",
    "    result = calculate_square_root(-9)\n",
    "    print(result)\n",
    "except NegativeNumberError as e:\n",
    "    print(\"Error:\", e.message)\n"
   ]
  },
  {
   "cell_type": "code",
   "execution_count": null,
   "id": "d1d86030-bb72-4bf4-b2de-8f04b87b6e15",
   "metadata": {},
   "outputs": [],
   "source": []
  }
 ],
 "metadata": {
  "kernelspec": {
   "display_name": "Python 3 (ipykernel)",
   "language": "python",
   "name": "python3"
  },
  "language_info": {
   "codemirror_mode": {
    "name": "ipython",
    "version": 3
   },
   "file_extension": ".py",
   "mimetype": "text/x-python",
   "name": "python",
   "nbconvert_exporter": "python",
   "pygments_lexer": "ipython3",
   "version": "3.10.8"
  }
 },
 "nbformat": 4,
 "nbformat_minor": 5
}
