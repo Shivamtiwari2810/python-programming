{
 "cells": [
  {
   "cell_type": "markdown",
   "id": "aaa31696-78ba-45e9-ac06-d5f0878c68ce",
   "metadata": {},
   "source": [
    "                        ANSWER NUMBER 1\n",
    " Python eas created by Guido van Rossum , and first relesed on Feb 20,1991.\n",
    " "
   ]
  },
  {
   "cell_type": "markdown",
   "id": "1c7894de-309c-4f25-8550-38d71a17f7d9",
   "metadata": {},
   "source": [
    "                          ANSWER 2\n",
    "\n",
    "Python is an interpreted programming lunguage,supporting object -oriented,structured,and functional programming.\n",
    "\n",
    "                          "
   ]
  },
  {
   "cell_type": "markdown",
   "id": "5240fb21-bd9e-4dd2-8736-b460b2258993",
   "metadata": {},
   "source": [
    "                        ANSWER 3\n",
    "  \n",
    "Yes Python is the case- sensitive language, for example ,it treats uppercase and lower case differntly. and this apply identifiers too.\n",
    "\n",
    "    "
   ]
  },
  {
   "cell_type": "markdown",
   "id": "8429970b-f40a-4e4a-acc1-bc5cb8693e3f",
   "metadata": {},
   "source": [
    "                            ANSWER 4\n",
    "                            \n",
    " Correct python extention file is that : .py extension                           \n",
    "                            "
   ]
  },
  {
   "cell_type": "markdown",
   "id": "35088a21-aa8b-450d-b3ff-9a5c7840a14e",
   "metadata": {},
   "source": [
    "                                ANSWER NUMBER 5\n",
    "                                \n",
    "  Python is an interpreted language, which means the source code of a Python program is\n",
    "converted into bytecode that is then executed by the Python virtual machine.                              "
   ]
  },
  {
   "cell_type": "markdown",
   "id": "813bbd32-d36b-4289-a8e6-23a3cf27bc69",
   "metadata": {},
   "source": [
    "                         ANSWER NUMBER 6\n",
    "    \n",
    "  Indentation is used to define a block of code in python. In Python, indentation is done with\n",
    "whitespace. All statements with the same right-hand distance belong to the same code\n",
    "block. If a block needs to be more nested, it is indented to the righ  "
   ]
  },
  {
   "cell_type": "code",
   "execution_count": 3,
   "id": "10d2b45e-0193-4652-ae7e-a5c2866d3d86",
   "metadata": {},
   "outputs": [],
   "source": [
    "                           # ANSWER NUMBER 7\n",
    "                            \n",
    "   # This is the single line comment                         "
   ]
  },
  {
   "cell_type": "markdown",
   "id": "29c4f83b-048d-40b1-a9b9-081f3ce16992",
   "metadata": {},
   "source": [
    "                            ANSWER NUMBER 8\n",
    "    \n",
    " The Function sys.version can Help us to find the version of python that we are currently working on.   "
   ]
  },
  {
   "cell_type": "markdown",
   "id": "0c80e0ab-e590-4973-8d33-6d0105e1ef45",
   "metadata": {},
   "source": [
    "                             ANSWER NUMBER 9\n",
    "                             \n",
    " lambda ,\n",
    "      The lambda keyword is used to define an anonymous function in python\n",
    "      "
   ]
  },
  {
   "cell_type": "markdown",
   "id": "f35f6182-f2e6-4d94-9a48-e0030bcd70f3",
   "metadata": {},
   "source": [
    "                            ANSWER NUMBER 10\n",
    "    \n",
    "pip stands for \"preferred installer program\". Python 2.7. 9 and later (on the python2 series),\n",
    "and Python 3.4 and later include pip (pip3 for Python 3) by default    "
   ]
  },
  {
   "cell_type": "markdown",
   "id": "10464415-7abf-4330-b541-0c506b5cd376",
   "metadata": {},
   "source": []
  },
  {
   "cell_type": "markdown",
   "id": "cd0453c8-87fa-4a97-bf4c-3fa255a7efeb",
   "metadata": {},
   "source": [
    "                            ANSWER NUMBER 11\n",
    "\n",
    " 1 .bin() Returns the binary version of a number\n",
    " 2.bool() Returns the boolean value of the specified object\n",
    " 3.bytearray() Returns an array of bytes\n",
    " 4.abs() Returns the absolute value of a number\n",
    " 5.classmethod() Converts a method into a class method\n",
    " 6.filter() Use a filter function to exclude items in an iterable    object\n",
    " 7.float() Returns a floating point numb\n",
    " \n",
    " 8.int() Returns an integer number\n",
    " 9.list() Returns a list\n",
    " 10.set() Returns a new set object"
   ]
  },
  {
   "cell_type": "markdown",
   "id": "5a5ea5be-36c7-4685-9bde-b1fc852f1031",
   "metadata": {},
   "source": [
    "                        ANSWER NUMBER 12\n",
    "   \n",
    "   An identifier can have a maximum length of 79 characters in Python.\n"
   ]
  },
  {
   "cell_type": "markdown",
   "id": "5aec58b7-a37e-434b-aa00-220caf826a22",
   "metadata": {},
   "source": [
    "                        ANSWER NUMBER 13\n",
    "                        \n",
    "  1. Presence of third-party modules\n",
    "2. Extensive support libraries(NumPy for numerical\n",
    "3. calculations, Pandas for data analytics, etc.)\n",
    "4. Open source and large active community base\n",
    "5. Versatile, Easy to read, learn and write\n",
    "6. User-friendly data structures\n",
    "7. High-level language\n",
    "8. Interpreted Language                      "
   ]
  },
  {
   "cell_type": "markdown",
   "id": "d76a4b21-6b69-4c0d-a761-b168491530e8",
   "metadata": {},
   "source": [
    "                            ANSWER NUMBER 14\n",
    "    \n",
    " Memory in Python is managed by Python private heap space. All Python objects and data\n",
    "structures are located in a private heap. This private heap is taken care of by Python\n",
    "Interpreter itself, and a programmer doesn't have access to this private heap."
   ]
  },
  {
   "cell_type": "markdown",
   "id": "55aa4ec1-481a-430f-9a3e-08852a407a29",
   "metadata": {},
   "source": [
    "                        ANSWER NUMBER 15\n",
    " Following steps to install python in windows are :-\n",
    "1. Right-clicking This PC and going to Properties.\n",
    "2. Clicking on the Advanced system settings in the menu on the left.\n",
    "3. Clicking on the Environment Variables button on the bottom right.\n",
    "4. In the System variables section, selecting the Path variable and clicking on Edit. The\n",
    "next screen will show all the directories that are currently a part of the PATH variable.\n",
    "5. Clicking on New and entering Python’s install directory.\n",
    "   "
   ]
  },
  {
   "cell_type": "markdown",
   "id": "bceac8b6-40e8-46b4-b428-bbe8fd35c534",
   "metadata": {},
   "source": [
    "                            ANSWER NUMBER 16\n",
    " It is preferred to use\n",
    "whitespaces instead of tabs to indent in python   "
   ]
  },
  {
   "cell_type": "code",
   "execution_count": null,
   "id": "103e5070-6a51-4490-ae26-e12ebbd58afa",
   "metadata": {},
   "outputs": [],
   "source": []
  }
 ],
 "metadata": {
  "kernelspec": {
   "display_name": "Python 3 (ipykernel)",
   "language": "python",
   "name": "python3"
  },
  "language_info": {
   "codemirror_mode": {
    "name": "ipython",
    "version": 3
   },
   "file_extension": ".py",
   "mimetype": "text/x-python",
   "name": "python",
   "nbconvert_exporter": "python",
   "pygments_lexer": "ipython3",
   "version": "3.10.8"
  }
 },
 "nbformat": 4,
 "nbformat_minor": 5
}
