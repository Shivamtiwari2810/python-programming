{
 "cells": [
  {
   "cell_type": "code",
   "execution_count": 1,
   "id": "303cc004-2679-495f-9c4b-7e50288aae3f",
   "metadata": {},
   "outputs": [
    {
     "name": "stdout",
     "output_type": "stream",
     "text": [
      "Tesla Model S\n",
      "155\n",
      "90\n"
     ]
    }
   ],
   "source": [
    "#(1)\n",
    "\n",
    "class Vehicle:\n",
    "    def __init__(self, name_of_vehicle, max_speed, average_of_vehicle):\n",
    "        self.name_of_vehicle = name_of_vehicle\n",
    "        self.max_speed = max_speed\n",
    "        self.average_of_vehicle = average_of_vehicle\n",
    "car = Vehicle(\"Tesla Model S\", 155, 90)\n",
    "print(car.name_of_vehicle)        \n",
    "print(car.max_speed)              \n",
    "print(car.average_of_vehicle)     \n"
   ]
  },
  {
   "cell_type": "code",
   "execution_count": 2,
   "id": "a8b6841c-2961-44dc-a3d7-5203eb7a5073",
   "metadata": {},
   "outputs": [
    {
     "name": "stdout",
     "output_type": "stream",
     "text": [
      "Tesla Model S has a seating capacity of 5 passengers.\n"
     ]
    }
   ],
   "source": [
    "#(2)\n",
    "\n",
    "class Car(Vehicle):\n",
    "    def seating_capacity(self, capacity):\n",
    "        return f\"{self.name_of_vehicle} has a seating capacity of {capacity} passengers.\"\n",
    "car = Car(\"Tesla Model S\", 155, 90)\n",
    "print(car.seating_capacity(5))   \n"
   ]
  },
  {
   "cell_type": "code",
   "execution_count": 3,
   "id": "ac6f35ea-4990-4501-9fe8-959f921804b1",
   "metadata": {},
   "outputs": [
    {
     "name": "stdout",
     "output_type": "stream",
     "text": [
      "Grrrr\n"
     ]
    }
   ],
   "source": [
    "#(3)\n",
    "\n",
    "#Multiple inheritance is a feature of object-oriented programming that allows a subclass to inherit from more than one parent class. This means that the subclass can have access to the attributes and methods of all of its parent classes.\n",
    "\n",
    "#example implementation in Python that demonstrates multiple inheritance:\n",
    "\n",
    "class Animal:\n",
    "    def __init__(self, name):\n",
    "        self.name = name\n",
    "        \n",
    "    def make_sound(self):\n",
    "        pass\n",
    "\n",
    "class Mammal(Animal):\n",
    "    def feed_young_with_milk(self):\n",
    "        pass\n",
    "\n",
    "class Bird(Animal):\n",
    "    def fly(self):\n",
    "        pass\n",
    "\n",
    "class Platypus(Mammal, Bird):\n",
    "    def make_sound(self):\n",
    "        print(\"Grrrr\")\n",
    "\n",
    "perry = Platypus(\"Perry\")\n",
    "perry.make_sound()  \n",
    "perry.feed_young_with_milk()\n",
    "perry.fly()\n"
   ]
  },
  {
   "cell_type": "code",
   "execution_count": 4,
   "id": "63a08ab3-2068-4d51-b781-1e14d15995ba",
   "metadata": {},
   "outputs": [
    {
     "name": "stdout",
     "output_type": "stream",
     "text": [
      "30\n",
      "35\n",
      "Age must be a positive number\n"
     ]
    }
   ],
   "source": [
    "#(4)\n",
    "\n",
    "#In Python, getters and setters are methods used to access and modify the values of an object's attributes. They are also known as accessor and mutator methods.\n",
    "\n",
    "#Getter methods are used to retrieve the value of an attribute, while setter methods are used to set the value of an attribute. Using getters and setters can help to enforce encapsulation and improve the maintainability of the code.\n",
    "\n",
    "class Person:\n",
    "    def __init__(self, name, age):\n",
    "        self.name = name\n",
    "        self._age = age\n",
    "\n",
    "    def get_age(self):\n",
    "        return self._age\n",
    "\n",
    "    def set_age(self, new_age):\n",
    "        if new_age > 0:\n",
    "            self._age = new_age\n",
    "        else:\n",
    "            print(\"Age must be a positive number\")\n",
    "\n",
    "person = Person(\"Alice\", 30)\n",
    "print(person.get_age())  # Output: 30\n",
    "\n",
    "person.set_age(35)\n",
    "print(person.get_age())  # Output: 35\n",
    "\n",
    "person.set_age(-10)  # Output: Age must be a positive number\n"
   ]
  },
  {
   "cell_type": "code",
   "execution_count": 5,
   "id": "caebd000-9d61-42b7-b667-af86e67b8e7f",
   "metadata": {},
   "outputs": [
    {
     "name": "stdout",
     "output_type": "stream",
     "text": [
      "Bark\n",
      "Meow\n",
      "Generic animal sound\n"
     ]
    }
   ],
   "source": [
    "#(5)\n",
    "\n",
    "\n",
    "#Method overriding is a feature of object-oriented programming that allows a subclass to provide a different implementation of a method that is already defined in its parent class. When a method is overridden in a subclass, the subclass's implementation of the method is used instead of the parent class's implementation.\n",
    "\n",
    "# example implementation in Python that demonstrates method overriding:\n",
    "\n",
    "class Animal:\n",
    "    def make_sound(self):\n",
    "        print(\"Generic animal sound\")\n",
    "\n",
    "class Dog(Animal):\n",
    "    def make_sound(self):\n",
    "        print(\"Bark\")\n",
    "\n",
    "class Cat(Animal):\n",
    "    def make_sound(self):\n",
    "        print(\"Meow\")\n",
    "\n",
    "class Cow(Animal):\n",
    "    pass\n",
    "\n",
    "animals = [Dog(), Cat(), Cow()]\n",
    "\n",
    "for animal in animals:\n",
    "    animal.make_sound()"
   ]
  },
  {
   "cell_type": "code",
   "execution_count": null,
   "id": "ed092cb6-2f3e-4d76-b779-db10ba143c80",
   "metadata": {},
   "outputs": [],
   "source": []
  }
 ],
 "metadata": {
  "kernelspec": {
   "display_name": "Python 3 (ipykernel)",
   "language": "python",
   "name": "python3"
  },
  "language_info": {
   "codemirror_mode": {
    "name": "ipython",
    "version": 3
   },
   "file_extension": ".py",
   "mimetype": "text/x-python",
   "name": "python",
   "nbconvert_exporter": "python",
   "pygments_lexer": "ipython3",
   "version": "3.10.8"
  }
 },
 "nbformat": 4,
 "nbformat_minor": 5
}
