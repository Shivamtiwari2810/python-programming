{
 "cells": [
  {
   "cell_type": "markdown",
   "id": "bd874c12-4a26-42e4-81db-d04daf6926ce",
   "metadata": {},
   "source": [
    "# Answer number 1\n",
    "Python Classes ::\n",
    "A class is considered as a blueprint of objects. We can think of the class as a sketch\n",
    "(prototype) of a house. It contains all the details about the floors, doors, windows, etc.\n",
    "Based on these descriptions we build the house. House is the object.\n",
    "\n",
    "create the class \n",
    "  class Student:\n",
    "      name = \"\"\n",
    " * Since many houses can be made from the same description, we can create many objects\n",
    "from a class .   \n",
    "\n",
    "Python Objects\n",
    "An object is called an instance of a class. For example, suppose Student is a class then we\n",
    "can create objects like Student1, Student2, etc from  the class\n",
    "\n",
    "      "
   ]
  },
  {
   "cell_type": "code",
   "execution_count": null,
   "id": "64e469b8-6c90-4750-92c2-259e5c6160ac",
   "metadata": {},
   "outputs": [],
   "source": [
    "Answer number 2\n",
    "\n",
    ". Name the four pillars of OOPs.\n",
    "The four pillars of OOP or Object Oriented Programming are as follows:\n",
    "1. Inheritance.\n",
    "2. Encapsulation.\n",
    "3. Polymorphism.\n",
    "4. Abstraction.\n",
    "1. Inheritance in python\n",
    "In case of real world objects, every element is a specialized within its general group of\n",
    "elements.\n",
    "For example, if we have a general class \"Animal\", it can have two specialized classes like\n",
    "\"Wild\" and \"Domestic\". Under \"Domestic\" also we may have multiple other specialized\n",
    "class. Thus \"Wild\" is a specialized subclass of the parent \"Animal\" class and the properties of \"wild\"  class share some properties with its parent class but it also has some unique\n",
    "properties which makes it unique within in parents class. This is what is called \"Inheritance\".\n",
    "Lets see example of inheritance in python"
   ]
  },
  {
   "cell_type": "code",
   "execution_count": 6,
   "id": "ed665e5a-94e3-4751-9a5b-6fe5ba0ae9b1",
   "metadata": {},
   "outputs": [],
   "source": [
    "# Creating a Class in Python\n",
    "class Animal:\n",
    "    def sounds(self):\n",
    "        print(\"This animals makes some sound!\")\n",
    "# Wild class inherits Animal class\n",
    "class Wild(Animal):\n",
    "    def asPet(self):\n",
    "        print(\"This animal can't be pet!\")\n",
    "# Domestic class inherits Animal class \n",
    "class Domestic(Animal):\n",
    "    def asPet(self):\n",
    "        print(\"This animal can be pet!\")\n",
    "        tiger = wild()\n",
    "        tiger.sounds()\n",
    "        tiger.asPet()\n"
   ]
  },
  {
   "cell_type": "markdown",
   "id": "d9fadf06-f840-4cbd-a1d9-aa13258f2568",
   "metadata": {},
   "source": [
    "2. Encapsulation in python\n",
    "In Python, we can protect the member variables of a class from being accessed by any\n",
    "program outside our class using the priniciple of Encapsulation.\n",
    "Encapsulation means binding up of code and data together under 1 wrapper which we\n",
    "already know as \"Class\" and provide proper access to change or modify the data of the\n",
    "class. We hide the variables by providing one underscore as prefix to the name of the\n",
    "variable.\n",
    "Let see an example of encapsulation in python"
   ]
  },
  {
   "cell_type": "code",
   "execution_count": 7,
   "id": "526c0c46-f687-4e9d-952e-5fd827b663a9",
   "metadata": {},
   "outputs": [
    {
     "name": "stdout",
     "output_type": "stream",
     "text": [
      "Tiger\n"
     ]
    }
   ],
   "source": [
    "# Creating a Class in Python\n",
    "class Animal:\n",
    " # Class Constructor\n",
    " def __init__(self,species):\n",
    "    self._species = species\n",
    "def sounds(self):\n",
    "    print(\"This animals makes some sound!\")\n",
    "tiger = Animal(\"Tiger\")\n",
    "print(tiger._species)\n"
   ]
  },
  {
   "cell_type": "markdown",
   "id": "5bb32e7c-871f-4991-94da-89f0ab7b43e8",
   "metadata": {},
   "source": [
    "3. Polymorphism in python\n",
    "The word \"Polymorphism\" has been derived from Greek literature meaning \"having many\n",
    "forms\". It generally emphasized on the fact of common interface for general set of activities.\n",
    "An example of polymorphism in python is given below.\n"
   ]
  },
  {
   "cell_type": "code",
   "execution_count": 8,
   "id": "e98c8d04-1d65-4cb4-aeb2-506988982527",
   "metadata": {},
   "outputs": [],
   "source": [
    "\n",
    "# Creating a Class in Python\n",
    "class Dog:\n",
    " \n",
    "  def makeSound(self):\n",
    "    print(\"Dogs bark!\")\n",
    "class Tiger:\n",
    "    def makeSound(self):\n",
    "        print(\"Tigers growl!\")\n",
    "# common interface\n",
    "def check_makeSound(animal):\n",
    "    animal.makeSound()\n",
    "myDog = Dog()\n",
    "myTiger = Tiger()"
   ]
  },
  {
   "cell_type": "markdown",
   "id": "25dd47d5-55db-4164-b420-84776a850ec7",
   "metadata": {},
   "source": [
    "4. Abstraction in python\n",
    "The concept of abstraction in O.O.P. is mainly utilized to create a blueprint of a class.\n",
    "Like we just define what member methods should be present in the class and not the way\n",
    "how the class implements them. The abstract class just defines what methods should be\n",
    "present in the classes which inherits it and not what the method does. The activity of the\n",
    "method is left on the subclass to decide which inherits the abstract class.\n",
    "By default, Python doesn't provide abstraction. There is a module named \"abc\" (Abstract\n",
    "Base Class) which helps us to realize the concept of abstraction in Python."
   ]
  },
  {
   "cell_type": "code",
   "execution_count": 10,
   "id": "4e393d2f-3128-4bce-bfd1-f840ff30e500",
   "metadata": {},
   "outputs": [
    {
     "name": "stdout",
     "output_type": "stream",
     "text": [
      "This is a Java programming book!\n"
     ]
    }
   ],
   "source": [
    "# Abstraction\n",
    "from abc import ABC, abstractmethod\n",
    "class Book(ABC):\n",
    " # Abstract method\n",
    " def book_name(self):\n",
    "    pass\n",
    "class Python(Book):\n",
    "   # Overwrite Abstract method\n",
    " def book_name(self):\n",
    "    print(\"This is a Python programming book!\")\n",
    " \n",
    "class Java(Book):\n",
    " # Overwrite Abstract method\n",
    " def book_name(self):\n",
    "    print(\"This is a Java programming book!\")\n",
    "myBook = Java()\n",
    "myBook.book_name()\n"
   ]
  },
  {
   "cell_type": "markdown",
   "id": "155f78a3-db17-4e99-8710-459a9f6f543e",
   "metadata": {},
   "source": [
    "# Answer number 3\n",
    "All classes have a function called __init__(), which is always executed when the class is\n",
    "being initiated.\n",
    "__init__() function is used to assign values to object properties, or other operations that are\n",
    "necessary to do when the object is being created:\n"
   ]
  },
  {
   "cell_type": "code",
   "execution_count": 11,
   "id": "dc86ecb4-d006-4be1-a366-77f9f721e3d9",
   "metadata": {},
   "outputs": [
    {
     "name": "stdout",
     "output_type": "stream",
     "text": [
      "John\n",
      "36\n"
     ]
    }
   ],
   "source": [
    "\n",
    "class Person:\n",
    "    def __init__(self, name, age):\n",
    "        self.name = name\n",
    "        self.age = age\n",
    "p1 = Person(\"John\", 36)\n",
    "print(p1.name)\n",
    "print(p1.age)"
   ]
  },
  {
   "cell_type": "markdown",
   "id": "063aec7e-7cf9-4666-b063-21aff58b7f19",
   "metadata": {},
   "source": [
    "# Answer number 4\n",
    "Why self is used in OOPs?\n",
    "The self parameter is a reference to the current instance of the class, and is used to access\n",
    "variables that belongs to the class.\n",
    "It does not have to be named self , you can call it whatever you like, but it has to be the first\n",
    "parameter of any function in the class\n"
   ]
  },
  {
   "cell_type": "code",
   "execution_count": 15,
   "id": "e9f5c747-6717-4669-b565-b8c8dedc0c50",
   "metadata": {},
   "outputs": [],
   "source": [
    "\n",
    "class Person:\n",
    "    def __init__(mysillyobject, name, age):\n",
    "        mysillyobject.name = name\n",
    "        mysillyobject.age = age\n",
    "    def myfunc(abc):\n",
    "        print(\"Hello my name is \" + abc.name)\n",
    "        p1 = Person(\"John\", 36)\n",
    "        p1.myfunc()\n"
   ]
  },
  {
   "cell_type": "markdown",
   "id": "c7cc5d4c-a50c-417f-a1bc-ba3a543decf0",
   "metadata": {},
   "source": [
    "# Answer number 5\n",
    "What is inheritance? Give an example for each type of\n",
    "inheritance.\n",
    "    Inheritance is defined as the mechanism of inheriting the         properties of the base class to the\n",
    "    child class.\n",
    "    Types of Inheritance in Python\n",
    "    Types of Inheritance depend upon the number of child and      parent classes involved. There\n",
    "    are five types of inheritance in Python:\n"
   ]
  },
  {
   "cell_type": "code",
   "execution_count": 16,
   "id": "618ac129-3d6d-4e16-8b84-10ab31dcf3e6",
   "metadata": {},
   "outputs": [
    {
     "name": "stdout",
     "output_type": "stream",
     "text": [
      "This function is in parent class.\n",
      "This function is in child class.\n"
     ]
    }
   ],
   "source": [
    "# Python program to demonstrate\n",
    "# single inheritance\n",
    "# Base class\n",
    "class Parent:\n",
    "    def func1(self):\n",
    "        print(\"This function is in parent class.\")\n",
    "# Derived class\n",
    "class Child(Parent):\n",
    "    def func2(self):\n",
    "        print(\"This function is in child class.\")\n",
    "# Driver's code\n",
    "object = Child()\n",
    "object.func1()\n",
    "object.func2()\n"
   ]
  },
  {
   "cell_type": "code",
   "execution_count": 17,
   "id": "79c56611-f0c6-40bd-b5f8-a308daca53d4",
   "metadata": {},
   "outputs": [
    {
     "name": "stdout",
     "output_type": "stream",
     "text": [
      "Father : Rahul\n",
      "Mother : Sangita\n"
     ]
    }
   ],
   "source": [
    "# Python program to demonstrate\n",
    "# multiple inheritance\n",
    "# Base class1\n",
    "class Mother:\n",
    "    mothername = \"\"\n",
    "    def mother(self):\n",
    "        print(self.mothername)\n",
    "# Base class2\n",
    "class Father:\n",
    "    fathername = \"\"\n",
    "    def father(self):\n",
    "        print(self.fathername)\n",
    "# Derived class\n",
    "class Son(Mother, Father):\n",
    "    def parents(self):\n",
    "        print(\"Father :\", self.fathername)\n",
    "        print(\"Mother :\", self.mothername)\n",
    "# Driver's code\n",
    "s1 = Son()\n",
    "s1.fathername = \"Rahul\"\n",
    "s1.mothername = \"Sangita\"\n",
    "s1.parents()\n"
   ]
  },
  {
   "cell_type": "code",
   "execution_count": 19,
   "id": "fbf7c882-af9a-4204-a032-07d2bdd60d5e",
   "metadata": {},
   "outputs": [
    {
     "ename": "IndentationError",
     "evalue": "unindent does not match any outer indentation level (<tokenize>, line 12)",
     "output_type": "error",
     "traceback": [
      "\u001b[0;36m  File \u001b[0;32m<tokenize>:12\u001b[0;36m\u001b[0m\n\u001b[0;31m    Grandfather.__init__(self, grandfathername)\u001b[0m\n\u001b[0m    ^\u001b[0m\n\u001b[0;31mIndentationError\u001b[0m\u001b[0;31m:\u001b[0m unindent does not match any outer indentation level\n"
     ]
    }
   ],
   "source": [
    "# Python program to demonstrate\n",
    "# multilevel inheritance\n",
    "# Base class\n",
    "class Grandfather:\n",
    "    def __init__(self, grandfathername):\n",
    "        self.grandfathername = grandfathername\n",
    "# Intermediate class\n",
    "class Father(Grandfather):\n",
    "    def __init__(self, fathername, grandfathername):\n",
    "        self.fathername = fathername\n",
    " # invoking constructor of Grandfather class\n",
    " Grandfather.__init__(self, grandfathername)\n",
    "# Derived class\n",
    "class Son(Father):\n",
    "    def __init__(self, sonname, fathername, grandfathername):\n",
    "        self.sonname = sonname\n",
    " # invoking constructor of Father class\n",
    "     Father.__init__(self, fathername, grandfathername)\n",
    "def print_name(self):\n",
    "    print('Grandfather name :', self.grandfathername)\n",
    "    print(\"Father name :\", self.fathername)\n",
    "    print(\"Son name :\", self.sonname)\n",
    "# Driver code\n",
    "s1 = Son('Prince', 'Rampal', 'Lal mani')\n",
    "print(s1.grandfathername)\n",
    "s1.print_name()"
   ]
  },
  {
   "cell_type": "code",
   "execution_count": null,
   "id": "aca01879-b734-4d55-9521-0dd186f48125",
   "metadata": {},
   "outputs": [],
   "source": []
  }
 ],
 "metadata": {
  "kernelspec": {
   "display_name": "Python 3 (ipykernel)",
   "language": "python",
   "name": "python3"
  },
  "language_info": {
   "codemirror_mode": {
    "name": "ipython",
    "version": 3
   },
   "file_extension": ".py",
   "mimetype": "text/x-python",
   "name": "python",
   "nbconvert_exporter": "python",
   "pygments_lexer": "ipython3",
   "version": "3.10.8"
  }
 },
 "nbformat": 4,
 "nbformat_minor": 5
}
