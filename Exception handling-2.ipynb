{
 "cells": [
  {
   "cell_type": "markdown",
   "id": "a9cf032d-9c62-4b5b-b93b-b6de80cbe710",
   "metadata": {},
   "source": [
    "Answer (1)\n",
    "\n",
    "\n",
    "\n",
    "When creating custom exceptions in Python, it is best practice to inherit from the built-in Exception class or one of its subclasses such as ValueError, TypeError, or RuntimeError.\n",
    "\n",
    "There are several reasons for this:\n",
    "\n",
    "Consistency: By inheriting from Exception or one of its subclasses, you are following the same convention that is used throughout the Python standard library and in most third-party packages. This makes your code easier to understand and maintain for other developers.\n",
    "\n",
    "Functionality: Inheriting from Exception gives your custom exception access to all of the built-in functionality of exceptions, such as the ability to print a traceback or handle the exception with a try/except block.\n",
    "\n",
    "Compatibility: If you plan to use your custom exception in a library or module that other developers may use, it is important to ensure that your exception can be caught by existing exception handlers. By inheriting from Exception or one of its subclasses, you can be confident that your exception will be compatible with existing code."
   ]
  },
  {
   "cell_type": "code",
   "execution_count": 7,
   "id": "4fcc4d63-444b-4e9b-8456-e7c6e1ccd6c4",
   "metadata": {},
   "outputs": [
    {
     "name": "stdout",
     "output_type": "stream",
     "text": [
      "<class 'Exception'>\n",
      "  <class 'BaseException'>\n",
      "    <class 'object'>\n"
     ]
    }
   ],
   "source": [
    "#Answer(2)\n",
    "\n",
    "import math\n",
    "# Define a function to print the Exception hierarchy recursively\n",
    "def print_exception_hierarchy(exc, indent=0):\n",
    "    print(' ' * indent + str(exc))\n",
    "    if hasattr(exc, '__bases__'):\n",
    "        for sub_exc in exc.__bases__:\n",
    "            print_exception_hierarchy(sub_exc, indent+2)\n",
    "\n",
    "# Call the function with the base Exception class\n",
    "print_exception_hierarchy(Exception)\n"
   ]
  },
  {
   "cell_type": "markdown",
   "id": "7b3dbe77-e4a4-46bc-9518-12366f0dac01",
   "metadata": {},
   "source": [
    "Answer(3)\n",
    "\n",
    "\n",
    "\n",
    " * The ArithmeticError is a built-in exception class in Python that is raised when an error occurs during an arithmetic operation. It is a base class for several other exception classes related to arithmetic errors, such as FloatingPointError, OverflowError, and ZeroDivisionError\n",
    "Here are two examples of the errors defined in the ArithmeticError class:\n",
    "FloatingPointError: This exception is raised when a floating-point calculation fails due to numerical imprecision or other issues related to the representation of floating-point \n",
    "\n",
    " * OverflowError: This exception is raised when a calculation exceeds the maximum representable value for a numeric type. "
   ]
  },
  {
   "cell_type": "code",
   "execution_count": 10,
   "id": "8fdbca0f-5afb-4ce7-978b-68516cf10946",
   "metadata": {},
   "outputs": [
    {
     "name": "stdout",
     "output_type": "stream",
     "text": [
      "Error: 'four'\n"
     ]
    }
   ],
   "source": [
    "#Answer(4)\n",
    "\n",
    "# Create a dictionary\n",
    "d = {\"one\": 1, \"two\": 2, \"three\": 3}\n",
    "\n",
    "# Try to access a key that does not exist\n",
    "try:\n",
    "    value = d[\"four\"]\n",
    "except KeyError as e:\n",
    "    print(f\"Error: {e}\")\n",
    "\n"
   ]
  },
  {
   "cell_type": "code",
   "execution_count": 11,
   "id": "2cde454a-4c6a-4a12-a996-dadeda09b8bc",
   "metadata": {},
   "outputs": [
    {
     "name": "stdout",
     "output_type": "stream",
     "text": [
      "Error: list index out of range\n"
     ]
    }
   ],
   "source": [
    "# Create a list\n",
    "lst = [1, 2, 3]\n",
    "\n",
    "# Try to access an index that is out of range\n",
    "try:\n",
    "    value = lst[3]\n",
    "except IndexError as e:\n",
    "    print(f\"Error: {e}\")\n"
   ]
  },
  {
   "cell_type": "markdown",
   "id": "daaac276-ea37-4bda-b716-dee717363e4d",
   "metadata": {},
   "source": [
    "Answer(5)\n",
    "\n",
    "\n",
    "ImportError is a built-in exception in Python that is raised when an import statement fails to load a module. It usually occurs when the interpreter is unable to locate the specified module or there is an error in the module being imported."
   ]
  },
  {
   "cell_type": "code",
   "execution_count": 12,
   "id": "d54c37ce-45f9-4132-968e-9ed25621e4b7",
   "metadata": {},
   "outputs": [
    {
     "name": "stdout",
     "output_type": "stream",
     "text": [
      "Error: No module named 'non_existent_module'\n"
     ]
    }
   ],
   "source": [
    "try:\n",
    "    import non_existent_module\n",
    "except ModuleNotFoundError as e:\n",
    "    print(f\"Error: {e}\")\n"
   ]
  },
  {
   "cell_type": "markdown",
   "id": "3d1b539c-32d0-4cec-bf47-34fee1907e80",
   "metadata": {},
   "source": [
    "Answer(6)\n",
    "\n",
    "\n",
    "Here are some best practices for exception handling in Python:\n",
    "\n",
    "Be specific: Catch specific exceptions whenever possible. This allows you to handle different exceptions differently and provide more specific error messages to the user.\n",
    "\n",
    "Use the finally block: Use the finally block to execute code that must be run regardless of whether an exception was raised or not. This is useful for closing files, database connections, or releasing resources.\n",
    "\n",
    "Use the with statement: Use the with statement when working with resources that need to be cleaned up after they are used, such as files or network connections. This ensures that the resource is properly closed, even if an exception is raised.\n",
    "\n",
    "Don't catch exceptions blindly: Avoid catching exceptions blindly without understanding what the exception means. This can lead to masking real errors or hiding bugs in the code.\n",
    "\n",
    "Don't repeat exception handling code: Avoid repeating exception handling code for similar blocks of code. Instead, extract the code into a function and handle the exception in the function.\n",
    "\n",
    "Log errors: Use a logging framework to log errors, including the stack trace, so that you can diagnose the problem easily.\n",
    "\n",
    "Raise custom exceptions: Raise custom exceptions when needed, with informative error messages that help the user understand the issue.\n",
    "\n",
    "Keep exception handling simple: Keep the exception handling code simple and concise, so that it is easy to read and maintain."
   ]
  }
 ],
 "metadata": {
  "kernelspec": {
   "display_name": "Python 3 (ipykernel)",
   "language": "python",
   "name": "python3"
  },
  "language_info": {
   "codemirror_mode": {
    "name": "ipython",
    "version": 3
   },
   "file_extension": ".py",
   "mimetype": "text/x-python",
   "name": "python",
   "nbconvert_exporter": "python",
   "pygments_lexer": "ipython3",
   "version": "3.10.8"
  }
 },
 "nbformat": 4,
 "nbformat_minor": 5
}
